{
 "cells": [
  {
   "cell_type": "code",
   "execution_count": 1,
   "metadata": {},
   "outputs": [
    {
     "name": "stderr",
     "output_type": "stream",
     "text": [
      "/home/kchen/.local/lib/python3.8/site-packages/pkg_resources/__init__.py:122: PkgResourcesDeprecationWarning: 0.1.36ubuntu1 is an invalid version and will not be supported in a future release\n",
      "  warnings.warn(\n",
      "/home/kchen/.local/lib/python3.8/site-packages/pkg_resources/__init__.py:122: PkgResourcesDeprecationWarning: 0.23ubuntu1 is an invalid version and will not be supported in a future release\n",
      "  warnings.warn(\n"
     ]
    }
   ],
   "source": [
    "import pandas as pd\n",
    "import numpy as np\n",
    "from sklearn.metrics import roc_auc_score, precision_recall_curve, roc_curve, auc, confusion_matrix, classification_report\n",
    "from sklearn.model_selection import cross_val_score\n",
    "from sklearn.ensemble import RandomForestClassifier\n",
    "from xgboost import XGBClassifier"
   ]
  },
  {
   "cell_type": "code",
   "execution_count": 2,
   "metadata": {},
   "outputs": [
    {
     "data": {
      "text/html": [
       "<div>\n",
       "<style scoped>\n",
       "    .dataframe tbody tr th:only-of-type {\n",
       "        vertical-align: middle;\n",
       "    }\n",
       "\n",
       "    .dataframe tbody tr th {\n",
       "        vertical-align: top;\n",
       "    }\n",
       "\n",
       "    .dataframe thead th {\n",
       "        text-align: right;\n",
       "    }\n",
       "</style>\n",
       "<table border=\"1\" class=\"dataframe\">\n",
       "  <thead>\n",
       "    <tr style=\"text-align: right;\">\n",
       "      <th></th>\n",
       "      <th>file_path</th>\n",
       "      <th>y_true</th>\n",
       "      <th>y_pred</th>\n",
       "    </tr>\n",
       "  </thead>\n",
       "  <tbody>\n",
       "    <tr>\n",
       "      <th>0</th>\n",
       "      <td>../data/split_1/train/0/104_new.jpg</td>\n",
       "      <td>0.0</td>\n",
       "      <td>0.588044</td>\n",
       "    </tr>\n",
       "    <tr>\n",
       "      <th>1</th>\n",
       "      <td>../data/split_1/train/0/104_old.jpg</td>\n",
       "      <td>0.0</td>\n",
       "      <td>0.558612</td>\n",
       "    </tr>\n",
       "    <tr>\n",
       "      <th>2</th>\n",
       "      <td>../data/split_1/train/0/107_old.jpg</td>\n",
       "      <td>0.0</td>\n",
       "      <td>0.539470</td>\n",
       "    </tr>\n",
       "    <tr>\n",
       "      <th>3</th>\n",
       "      <td>../data/split_1/train/0/108_old.jpg</td>\n",
       "      <td>0.0</td>\n",
       "      <td>0.590490</td>\n",
       "    </tr>\n",
       "    <tr>\n",
       "      <th>4</th>\n",
       "      <td>../data/split_1/train/0/109_old.jpg</td>\n",
       "      <td>0.0</td>\n",
       "      <td>0.516440</td>\n",
       "    </tr>\n",
       "  </tbody>\n",
       "</table>\n",
       "</div>"
      ],
      "text/plain": [
       "                             file_path  y_true    y_pred\n",
       "0  ../data/split_1/train/0/104_new.jpg     0.0  0.588044\n",
       "1  ../data/split_1/train/0/104_old.jpg     0.0  0.558612\n",
       "2  ../data/split_1/train/0/107_old.jpg     0.0  0.539470\n",
       "3  ../data/split_1/train/0/108_old.jpg     0.0  0.590490\n",
       "4  ../data/split_1/train/0/109_old.jpg     0.0  0.516440"
      ]
     },
     "execution_count": 2,
     "metadata": {},
     "output_type": "execute_result"
    }
   ],
   "source": [
    "preds = pd.read_csv('preds/preds_InceptionV3_radimagenet_all.csv')\n",
    "preds.head()"
   ]
  },
  {
   "cell_type": "code",
   "execution_count": 3,
   "metadata": {},
   "outputs": [
    {
     "data": {
      "text/plain": [
       "count    821.000000\n",
       "mean       0.550611\n",
       "std        0.105176\n",
       "min        0.023206\n",
       "25%        0.544292\n",
       "50%        0.569387\n",
       "75%        0.598258\n",
       "max        0.772915\n",
       "Name: y_pred, dtype: float64"
      ]
     },
     "execution_count": 3,
     "metadata": {},
     "output_type": "execute_result"
    }
   ],
   "source": [
    "preds['y_pred'].describe()"
   ]
  },
  {
   "cell_type": "code",
   "execution_count": 4,
   "metadata": {},
   "outputs": [
    {
     "data": {
      "text/plain": [
       "(821, 3)"
      ]
     },
     "execution_count": 4,
     "metadata": {},
     "output_type": "execute_result"
    }
   ],
   "source": [
    "preds.shape"
   ]
  },
  {
   "cell_type": "code",
   "execution_count": 5,
   "metadata": {},
   "outputs": [
    {
     "data": {
      "text/plain": [
       "0.6679992860967339"
      ]
     },
     "execution_count": 5,
     "metadata": {},
     "output_type": "execute_result"
    }
   ],
   "source": [
    "roc_auc_score(preds['y_true'], preds['y_pred'])"
   ]
  },
  {
   "cell_type": "code",
   "execution_count": 6,
   "metadata": {},
   "outputs": [
    {
     "data": {
      "text/plain": [
       "0.6656231365533691"
      ]
     },
     "execution_count": 6,
     "metadata": {},
     "output_type": "execute_result"
    }
   ],
   "source": [
    "test_preds = preds.loc[preds['file_path'].str.contains('test')]\n",
    "roc_auc_score(test_preds['y_true'], test_preds['y_pred'])"
   ]
  },
  {
   "cell_type": "code",
   "execution_count": 7,
   "metadata": {},
   "outputs": [
    {
     "data": {
      "text/plain": [
       "0.6840257072815212"
      ]
     },
     "execution_count": 7,
     "metadata": {},
     "output_type": "execute_result"
    }
   ],
   "source": [
    "test_preds = preds.loc[preds['file_path'].str.contains('train')]\n",
    "roc_auc_score(test_preds['y_true'], test_preds['y_pred'])"
   ]
  },
  {
   "cell_type": "code",
   "execution_count": 8,
   "metadata": {},
   "outputs": [
    {
     "data": {
      "text/plain": [
       "0.6221632773356912"
      ]
     },
     "execution_count": 8,
     "metadata": {},
     "output_type": "execute_result"
    }
   ],
   "source": [
    "test_preds = preds.loc[preds['file_path'].str.contains('val')]\n",
    "roc_auc_score(test_preds['y_true'], test_preds['y_pred'])"
   ]
  },
  {
   "cell_type": "code",
   "execution_count": 9,
   "metadata": {},
   "outputs": [
    {
     "data": {
      "text/plain": [
       "0.6506079148124603"
      ]
     },
     "execution_count": 9,
     "metadata": {},
     "output_type": "execute_result"
    }
   ],
   "source": [
    "old_preds = preds.loc[~preds['file_path'].str.contains('new')]\n",
    "roc_auc_score(old_preds['y_true'], old_preds['y_pred'])"
   ]
  },
  {
   "cell_type": "code",
   "execution_count": 10,
   "metadata": {},
   "outputs": [
    {
     "data": {
      "text/plain": [
       "0.6714034662465156"
      ]
     },
     "execution_count": 10,
     "metadata": {},
     "output_type": "execute_result"
    }
   ],
   "source": [
    "new_preds = preds.loc[preds['file_path'].str.contains('new')]\n",
    "roc_auc_score(new_preds['y_true'], new_preds['y_pred'])"
   ]
  },
  {
   "cell_type": "code",
   "execution_count": 11,
   "metadata": {},
   "outputs": [
    {
     "data": {
      "text/html": [
       "<div>\n",
       "<style scoped>\n",
       "    .dataframe tbody tr th:only-of-type {\n",
       "        vertical-align: middle;\n",
       "    }\n",
       "\n",
       "    .dataframe tbody tr th {\n",
       "        vertical-align: top;\n",
       "    }\n",
       "\n",
       "    .dataframe thead th {\n",
       "        text-align: right;\n",
       "    }\n",
       "</style>\n",
       "<table border=\"1\" class=\"dataframe\">\n",
       "  <thead>\n",
       "    <tr style=\"text-align: right;\">\n",
       "      <th></th>\n",
       "      <th>study_id</th>\n",
       "      <th>age</th>\n",
       "      <th>race/ethnicity</th>\n",
       "      <th>bmi</th>\n",
       "      <th>density</th>\n",
       "      <th>tumor_grade</th>\n",
       "      <th>tumor_size</th>\n",
       "      <th>tumor_type</th>\n",
       "      <th>margin</th>\n",
       "    </tr>\n",
       "  </thead>\n",
       "  <tbody>\n",
       "    <tr>\n",
       "      <th>0</th>\n",
       "      <td>573</td>\n",
       "      <td>68.0</td>\n",
       "      <td>Non-Hispanic White</td>\n",
       "      <td>26.05</td>\n",
       "      <td>C</td>\n",
       "      <td>2.0</td>\n",
       "      <td>5.0</td>\n",
       "      <td>ILC</td>\n",
       "      <td>0.0</td>\n",
       "    </tr>\n",
       "    <tr>\n",
       "      <th>1</th>\n",
       "      <td>95</td>\n",
       "      <td>59.0</td>\n",
       "      <td>Non-Hispanic Black</td>\n",
       "      <td>32.58</td>\n",
       "      <td>A</td>\n",
       "      <td>3.0</td>\n",
       "      <td>15.0</td>\n",
       "      <td>IDC</td>\n",
       "      <td>1.0</td>\n",
       "    </tr>\n",
       "    <tr>\n",
       "      <th>2</th>\n",
       "      <td>748</td>\n",
       "      <td>44.0</td>\n",
       "      <td>Non-Hispanic White</td>\n",
       "      <td>25.39</td>\n",
       "      <td>C</td>\n",
       "      <td>3.0</td>\n",
       "      <td>8.0</td>\n",
       "      <td>IDC</td>\n",
       "      <td>1.0</td>\n",
       "    </tr>\n",
       "    <tr>\n",
       "      <th>3</th>\n",
       "      <td>391</td>\n",
       "      <td>52.0</td>\n",
       "      <td>Non-Hispanic Black</td>\n",
       "      <td>40.57</td>\n",
       "      <td>B</td>\n",
       "      <td>2.0</td>\n",
       "      <td>10.0</td>\n",
       "      <td>IDC</td>\n",
       "      <td>1.0</td>\n",
       "    </tr>\n",
       "    <tr>\n",
       "      <th>4</th>\n",
       "      <td>79</td>\n",
       "      <td>51.0</td>\n",
       "      <td>Non-Hispanic White</td>\n",
       "      <td>32.46</td>\n",
       "      <td>A</td>\n",
       "      <td>1.0</td>\n",
       "      <td>12.0</td>\n",
       "      <td>IDC</td>\n",
       "      <td>1.0</td>\n",
       "    </tr>\n",
       "  </tbody>\n",
       "</table>\n",
       "</div>"
      ],
      "text/plain": [
       "   study_id   age      race/ethnicity    bmi density  tumor_grade  tumor_size  \\\n",
       "0       573  68.0  Non-Hispanic White  26.05       C          2.0         5.0   \n",
       "1        95  59.0  Non-Hispanic Black  32.58       A          3.0        15.0   \n",
       "2       748  44.0  Non-Hispanic White  25.39       C          3.0         8.0   \n",
       "3       391  52.0  Non-Hispanic Black  40.57       B          2.0        10.0   \n",
       "4        79  51.0  Non-Hispanic White  32.46       A          1.0        12.0   \n",
       "\n",
       "  tumor_type  margin  \n",
       "0        ILC     0.0  \n",
       "1        IDC     1.0  \n",
       "2        IDC     1.0  \n",
       "3        IDC     1.0  \n",
       "4        IDC     1.0  "
      ]
     },
     "execution_count": 11,
     "metadata": {},
     "output_type": "execute_result"
    }
   ],
   "source": [
    "#read in the clinical info\n",
    "clin = pd.read_csv('../data/new_clin_clean.csv')\n",
    "clin.head()"
   ]
  },
  {
   "cell_type": "code",
   "execution_count": 12,
   "metadata": {},
   "outputs": [
    {
     "data": {
      "text/html": [
       "<div>\n",
       "<style scoped>\n",
       "    .dataframe tbody tr th:only-of-type {\n",
       "        vertical-align: middle;\n",
       "    }\n",
       "\n",
       "    .dataframe tbody tr th {\n",
       "        vertical-align: top;\n",
       "    }\n",
       "\n",
       "    .dataframe thead th {\n",
       "        text-align: right;\n",
       "    }\n",
       "</style>\n",
       "<table border=\"1\" class=\"dataframe\">\n",
       "  <thead>\n",
       "    <tr style=\"text-align: right;\">\n",
       "      <th></th>\n",
       "      <th>file_path</th>\n",
       "      <th>y_true</th>\n",
       "      <th>y_pred</th>\n",
       "    </tr>\n",
       "  </thead>\n",
       "  <tbody>\n",
       "    <tr>\n",
       "      <th>0</th>\n",
       "      <td>../data/split_1/train/0/104_new.jpg</td>\n",
       "      <td>0.0</td>\n",
       "      <td>0.588044</td>\n",
       "    </tr>\n",
       "    <tr>\n",
       "      <th>6</th>\n",
       "      <td>../data/split_1/train/0/110_new.jpg</td>\n",
       "      <td>0.0</td>\n",
       "      <td>0.647285</td>\n",
       "    </tr>\n",
       "    <tr>\n",
       "      <th>9</th>\n",
       "      <td>../data/split_1/train/0/122_new.jpg</td>\n",
       "      <td>0.0</td>\n",
       "      <td>0.520846</td>\n",
       "    </tr>\n",
       "    <tr>\n",
       "      <th>15</th>\n",
       "      <td>../data/split_1/train/0/138_new.jpg</td>\n",
       "      <td>0.0</td>\n",
       "      <td>0.289983</td>\n",
       "    </tr>\n",
       "    <tr>\n",
       "      <th>18</th>\n",
       "      <td>../data/split_1/train/0/145_new.jpg</td>\n",
       "      <td>0.0</td>\n",
       "      <td>0.560086</td>\n",
       "    </tr>\n",
       "  </tbody>\n",
       "</table>\n",
       "</div>"
      ],
      "text/plain": [
       "                              file_path  y_true    y_pred\n",
       "0   ../data/split_1/train/0/104_new.jpg     0.0  0.588044\n",
       "6   ../data/split_1/train/0/110_new.jpg     0.0  0.647285\n",
       "9   ../data/split_1/train/0/122_new.jpg     0.0  0.520846\n",
       "15  ../data/split_1/train/0/138_new.jpg     0.0  0.289983\n",
       "18  ../data/split_1/train/0/145_new.jpg     0.0  0.560086"
      ]
     },
     "execution_count": 12,
     "metadata": {},
     "output_type": "execute_result"
    }
   ],
   "source": [
    "preds_new = preds.loc[preds['file_path'].str.contains('_new')]\n",
    "preds_new.head()"
   ]
  },
  {
   "cell_type": "code",
   "execution_count": 13,
   "metadata": {},
   "outputs": [
    {
     "data": {
      "text/plain": [
       "(371, 3)"
      ]
     },
     "execution_count": 13,
     "metadata": {},
     "output_type": "execute_result"
    }
   ],
   "source": [
    "preds_new.shape"
   ]
  },
  {
   "cell_type": "code",
   "execution_count": 14,
   "metadata": {},
   "outputs": [
    {
     "name": "stderr",
     "output_type": "stream",
     "text": [
      "/tmp/ipykernel_134726/2348572271.py:4: SettingWithCopyWarning: \n",
      "A value is trying to be set on a copy of a slice from a DataFrame.\n",
      "Try using .loc[row_indexer,col_indexer] = value instead\n",
      "\n",
      "See the caveats in the documentation: https://pandas.pydata.org/pandas-docs/stable/user_guide/indexing.html#returning-a-view-versus-a-copy\n",
      "  preds_new['study_id'] = study_ids\n"
     ]
    },
    {
     "data": {
      "text/html": [
       "<div>\n",
       "<style scoped>\n",
       "    .dataframe tbody tr th:only-of-type {\n",
       "        vertical-align: middle;\n",
       "    }\n",
       "\n",
       "    .dataframe tbody tr th {\n",
       "        vertical-align: top;\n",
       "    }\n",
       "\n",
       "    .dataframe thead th {\n",
       "        text-align: right;\n",
       "    }\n",
       "</style>\n",
       "<table border=\"1\" class=\"dataframe\">\n",
       "  <thead>\n",
       "    <tr style=\"text-align: right;\">\n",
       "      <th></th>\n",
       "      <th>file_path</th>\n",
       "      <th>y_true</th>\n",
       "      <th>y_pred</th>\n",
       "      <th>study_id</th>\n",
       "    </tr>\n",
       "  </thead>\n",
       "  <tbody>\n",
       "    <tr>\n",
       "      <th>0</th>\n",
       "      <td>../data/split_1/train/0/104_new.jpg</td>\n",
       "      <td>0.0</td>\n",
       "      <td>0.588044</td>\n",
       "      <td>104</td>\n",
       "    </tr>\n",
       "    <tr>\n",
       "      <th>6</th>\n",
       "      <td>../data/split_1/train/0/110_new.jpg</td>\n",
       "      <td>0.0</td>\n",
       "      <td>0.647285</td>\n",
       "      <td>110</td>\n",
       "    </tr>\n",
       "    <tr>\n",
       "      <th>9</th>\n",
       "      <td>../data/split_1/train/0/122_new.jpg</td>\n",
       "      <td>0.0</td>\n",
       "      <td>0.520846</td>\n",
       "      <td>122</td>\n",
       "    </tr>\n",
       "    <tr>\n",
       "      <th>15</th>\n",
       "      <td>../data/split_1/train/0/138_new.jpg</td>\n",
       "      <td>0.0</td>\n",
       "      <td>0.289983</td>\n",
       "      <td>138</td>\n",
       "    </tr>\n",
       "    <tr>\n",
       "      <th>18</th>\n",
       "      <td>../data/split_1/train/0/145_new.jpg</td>\n",
       "      <td>0.0</td>\n",
       "      <td>0.560086</td>\n",
       "      <td>145</td>\n",
       "    </tr>\n",
       "  </tbody>\n",
       "</table>\n",
       "</div>"
      ],
      "text/plain": [
       "                              file_path  y_true    y_pred study_id\n",
       "0   ../data/split_1/train/0/104_new.jpg     0.0  0.588044      104\n",
       "6   ../data/split_1/train/0/110_new.jpg     0.0  0.647285      110\n",
       "9   ../data/split_1/train/0/122_new.jpg     0.0  0.520846      122\n",
       "15  ../data/split_1/train/0/138_new.jpg     0.0  0.289983      138\n",
       "18  ../data/split_1/train/0/145_new.jpg     0.0  0.560086      145"
      ]
     },
     "execution_count": 14,
     "metadata": {},
     "output_type": "execute_result"
    }
   ],
   "source": [
    "file_paths = preds_new['file_path'].tolist()\n",
    "file_paths1 = [x.split('/')[-1] for x in file_paths]\n",
    "study_ids = [x.split('_')[0] for x in file_paths1]\n",
    "preds_new['study_id'] = study_ids\n",
    "preds_new.head()"
   ]
  },
  {
   "cell_type": "code",
   "execution_count": 15,
   "metadata": {},
   "outputs": [
    {
     "name": "stdout",
     "output_type": "stream",
     "text": [
      "(371, 9)\n"
     ]
    },
    {
     "data": {
      "text/html": [
       "<div>\n",
       "<style scoped>\n",
       "    .dataframe tbody tr th:only-of-type {\n",
       "        vertical-align: middle;\n",
       "    }\n",
       "\n",
       "    .dataframe tbody tr th {\n",
       "        vertical-align: top;\n",
       "    }\n",
       "\n",
       "    .dataframe thead th {\n",
       "        text-align: right;\n",
       "    }\n",
       "</style>\n",
       "<table border=\"1\" class=\"dataframe\">\n",
       "  <thead>\n",
       "    <tr style=\"text-align: right;\">\n",
       "      <th></th>\n",
       "      <th>study_id</th>\n",
       "      <th>age</th>\n",
       "      <th>race/ethnicity</th>\n",
       "      <th>bmi</th>\n",
       "      <th>density</th>\n",
       "      <th>tumor_grade</th>\n",
       "      <th>tumor_size</th>\n",
       "      <th>tumor_type</th>\n",
       "      <th>margin</th>\n",
       "    </tr>\n",
       "  </thead>\n",
       "  <tbody>\n",
       "    <tr>\n",
       "      <th>0</th>\n",
       "      <td>573</td>\n",
       "      <td>68.0</td>\n",
       "      <td>Non-Hispanic White</td>\n",
       "      <td>26.05</td>\n",
       "      <td>C</td>\n",
       "      <td>2.0</td>\n",
       "      <td>5.0</td>\n",
       "      <td>ILC</td>\n",
       "      <td>0.0</td>\n",
       "    </tr>\n",
       "    <tr>\n",
       "      <th>1</th>\n",
       "      <td>95</td>\n",
       "      <td>59.0</td>\n",
       "      <td>Non-Hispanic Black</td>\n",
       "      <td>32.58</td>\n",
       "      <td>A</td>\n",
       "      <td>3.0</td>\n",
       "      <td>15.0</td>\n",
       "      <td>IDC</td>\n",
       "      <td>1.0</td>\n",
       "    </tr>\n",
       "    <tr>\n",
       "      <th>2</th>\n",
       "      <td>748</td>\n",
       "      <td>44.0</td>\n",
       "      <td>Non-Hispanic White</td>\n",
       "      <td>25.39</td>\n",
       "      <td>C</td>\n",
       "      <td>3.0</td>\n",
       "      <td>8.0</td>\n",
       "      <td>IDC</td>\n",
       "      <td>1.0</td>\n",
       "    </tr>\n",
       "    <tr>\n",
       "      <th>3</th>\n",
       "      <td>391</td>\n",
       "      <td>52.0</td>\n",
       "      <td>Non-Hispanic Black</td>\n",
       "      <td>40.57</td>\n",
       "      <td>B</td>\n",
       "      <td>2.0</td>\n",
       "      <td>10.0</td>\n",
       "      <td>IDC</td>\n",
       "      <td>1.0</td>\n",
       "    </tr>\n",
       "    <tr>\n",
       "      <th>4</th>\n",
       "      <td>79</td>\n",
       "      <td>51.0</td>\n",
       "      <td>Non-Hispanic White</td>\n",
       "      <td>32.46</td>\n",
       "      <td>A</td>\n",
       "      <td>1.0</td>\n",
       "      <td>12.0</td>\n",
       "      <td>IDC</td>\n",
       "      <td>1.0</td>\n",
       "    </tr>\n",
       "  </tbody>\n",
       "</table>\n",
       "</div>"
      ],
      "text/plain": [
       "   study_id   age      race/ethnicity    bmi density  tumor_grade  tumor_size  \\\n",
       "0       573  68.0  Non-Hispanic White  26.05       C          2.0         5.0   \n",
       "1        95  59.0  Non-Hispanic Black  32.58       A          3.0        15.0   \n",
       "2       748  44.0  Non-Hispanic White  25.39       C          3.0         8.0   \n",
       "3       391  52.0  Non-Hispanic Black  40.57       B          2.0        10.0   \n",
       "4        79  51.0  Non-Hispanic White  32.46       A          1.0        12.0   \n",
       "\n",
       "  tumor_type  margin  \n",
       "0        ILC     0.0  \n",
       "1        IDC     1.0  \n",
       "2        IDC     1.0  \n",
       "3        IDC     1.0  \n",
       "4        IDC     1.0  "
      ]
     },
     "execution_count": 15,
     "metadata": {},
     "output_type": "execute_result"
    }
   ],
   "source": [
    "test_study_ids = preds_new['study_id'].tolist()\n",
    "test_study_ids = [int(x) for x in test_study_ids]\n",
    "test_clin = clin.loc[clin['study_id'].isin(test_study_ids)]\n",
    "print(test_clin.shape)\n",
    "test_clin.head()"
   ]
  },
  {
   "cell_type": "code",
   "execution_count": 16,
   "metadata": {},
   "outputs": [
    {
     "data": {
      "text/html": [
       "<div>\n",
       "<style scoped>\n",
       "    .dataframe tbody tr th:only-of-type {\n",
       "        vertical-align: middle;\n",
       "    }\n",
       "\n",
       "    .dataframe tbody tr th {\n",
       "        vertical-align: top;\n",
       "    }\n",
       "\n",
       "    .dataframe thead th {\n",
       "        text-align: right;\n",
       "    }\n",
       "</style>\n",
       "<table border=\"1\" class=\"dataframe\">\n",
       "  <thead>\n",
       "    <tr style=\"text-align: right;\">\n",
       "      <th></th>\n",
       "      <th>study_id</th>\n",
       "      <th>age</th>\n",
       "      <th>race/ethnicity</th>\n",
       "      <th>bmi</th>\n",
       "      <th>density</th>\n",
       "      <th>tumor_grade</th>\n",
       "      <th>tumor_size</th>\n",
       "      <th>tumor_type</th>\n",
       "      <th>margin</th>\n",
       "    </tr>\n",
       "  </thead>\n",
       "  <tbody>\n",
       "    <tr>\n",
       "      <th>0</th>\n",
       "      <td>1</td>\n",
       "      <td>46.0</td>\n",
       "      <td>Asian</td>\n",
       "      <td>18.97</td>\n",
       "      <td>D</td>\n",
       "      <td>2.0</td>\n",
       "      <td>10.000000</td>\n",
       "      <td>IDC</td>\n",
       "      <td>1.0</td>\n",
       "    </tr>\n",
       "    <tr>\n",
       "      <th>1</th>\n",
       "      <td>2</td>\n",
       "      <td>47.0</td>\n",
       "      <td>Hispanic</td>\n",
       "      <td>40.28</td>\n",
       "      <td>B</td>\n",
       "      <td>2.0</td>\n",
       "      <td>4.000000</td>\n",
       "      <td>IDC</td>\n",
       "      <td>1.0</td>\n",
       "    </tr>\n",
       "    <tr>\n",
       "      <th>2</th>\n",
       "      <td>3</td>\n",
       "      <td>61.0</td>\n",
       "      <td>Non-Hispanic White</td>\n",
       "      <td>24.44</td>\n",
       "      <td>C</td>\n",
       "      <td>2.0</td>\n",
       "      <td>7.553571</td>\n",
       "      <td>DCIS</td>\n",
       "      <td>1.0</td>\n",
       "    </tr>\n",
       "    <tr>\n",
       "      <th>3</th>\n",
       "      <td>4</td>\n",
       "      <td>59.0</td>\n",
       "      <td>Non-Hispanic White</td>\n",
       "      <td>24.21</td>\n",
       "      <td>C</td>\n",
       "      <td>1.0</td>\n",
       "      <td>10.000000</td>\n",
       "      <td>IDC</td>\n",
       "      <td>1.0</td>\n",
       "    </tr>\n",
       "    <tr>\n",
       "      <th>4</th>\n",
       "      <td>5</td>\n",
       "      <td>40.0</td>\n",
       "      <td>Non-Hispanic White</td>\n",
       "      <td>21.80</td>\n",
       "      <td>C</td>\n",
       "      <td>3.0</td>\n",
       "      <td>11.000000</td>\n",
       "      <td>IDC</td>\n",
       "      <td>0.0</td>\n",
       "    </tr>\n",
       "  </tbody>\n",
       "</table>\n",
       "</div>"
      ],
      "text/plain": [
       "   study_id   age      race/ethnicity    bmi density  tumor_grade  tumor_size  \\\n",
       "0         1  46.0               Asian  18.97       D          2.0   10.000000   \n",
       "1         2  47.0            Hispanic  40.28       B          2.0    4.000000   \n",
       "2         3  61.0  Non-Hispanic White  24.44       C          2.0    7.553571   \n",
       "3         4  59.0  Non-Hispanic White  24.21       C          1.0   10.000000   \n",
       "4         5  40.0  Non-Hispanic White  21.80       C          3.0   11.000000   \n",
       "\n",
       "  tumor_type  margin  \n",
       "0        IDC     1.0  \n",
       "1        IDC     1.0  \n",
       "2       DCIS     1.0  \n",
       "3        IDC     1.0  \n",
       "4        IDC     0.0  "
      ]
     },
     "execution_count": 16,
     "metadata": {},
     "output_type": "execute_result"
    }
   ],
   "source": [
    "test_clin['study_id'] = test_clin['study_id'].astype(int)\n",
    "test_clin.sort_values(by=['study_id'], inplace=True)\n",
    "test_clin.reset_index(drop=True, inplace=True)\n",
    "test_clin.head()"
   ]
  },
  {
   "cell_type": "code",
   "execution_count": 17,
   "metadata": {},
   "outputs": [
    {
     "name": "stderr",
     "output_type": "stream",
     "text": [
      "/tmp/ipykernel_134726/2152819623.py:1: SettingWithCopyWarning: \n",
      "A value is trying to be set on a copy of a slice from a DataFrame.\n",
      "Try using .loc[row_indexer,col_indexer] = value instead\n",
      "\n",
      "See the caveats in the documentation: https://pandas.pydata.org/pandas-docs/stable/user_guide/indexing.html#returning-a-view-versus-a-copy\n",
      "  preds_new['study_id'] = preds_new['study_id'].astype(int)\n",
      "/home/kchen/.local/lib/python3.8/site-packages/pandas/util/_decorators.py:311: SettingWithCopyWarning: \n",
      "A value is trying to be set on a copy of a slice from a DataFrame\n",
      "\n",
      "See the caveats in the documentation: https://pandas.pydata.org/pandas-docs/stable/user_guide/indexing.html#returning-a-view-versus-a-copy\n",
      "  return func(*args, **kwargs)\n"
     ]
    },
    {
     "data": {
      "text/html": [
       "<div>\n",
       "<style scoped>\n",
       "    .dataframe tbody tr th:only-of-type {\n",
       "        vertical-align: middle;\n",
       "    }\n",
       "\n",
       "    .dataframe tbody tr th {\n",
       "        vertical-align: top;\n",
       "    }\n",
       "\n",
       "    .dataframe thead th {\n",
       "        text-align: right;\n",
       "    }\n",
       "</style>\n",
       "<table border=\"1\" class=\"dataframe\">\n",
       "  <thead>\n",
       "    <tr style=\"text-align: right;\">\n",
       "      <th></th>\n",
       "      <th>file_path</th>\n",
       "      <th>y_true</th>\n",
       "      <th>y_pred</th>\n",
       "      <th>study_id</th>\n",
       "    </tr>\n",
       "  </thead>\n",
       "  <tbody>\n",
       "    <tr>\n",
       "      <th>0</th>\n",
       "      <td>../data/split_1/train/1/1_new.jpg</td>\n",
       "      <td>1.0</td>\n",
       "      <td>0.451744</td>\n",
       "      <td>1</td>\n",
       "    </tr>\n",
       "    <tr>\n",
       "      <th>1</th>\n",
       "      <td>../data/split_1/train/1/2_new.jpg</td>\n",
       "      <td>1.0</td>\n",
       "      <td>0.678649</td>\n",
       "      <td>2</td>\n",
       "    </tr>\n",
       "    <tr>\n",
       "      <th>2</th>\n",
       "      <td>../data/split_1/train/1/3_new.jpg</td>\n",
       "      <td>1.0</td>\n",
       "      <td>0.571372</td>\n",
       "      <td>3</td>\n",
       "    </tr>\n",
       "    <tr>\n",
       "      <th>3</th>\n",
       "      <td>../data/split_1/train/1/4_new.jpg</td>\n",
       "      <td>1.0</td>\n",
       "      <td>0.683006</td>\n",
       "      <td>4</td>\n",
       "    </tr>\n",
       "    <tr>\n",
       "      <th>4</th>\n",
       "      <td>../data/split_1/train/0/5_new.jpg</td>\n",
       "      <td>0.0</td>\n",
       "      <td>0.299800</td>\n",
       "      <td>5</td>\n",
       "    </tr>\n",
       "  </tbody>\n",
       "</table>\n",
       "</div>"
      ],
      "text/plain": [
       "                           file_path  y_true    y_pred  study_id\n",
       "0  ../data/split_1/train/1/1_new.jpg     1.0  0.451744         1\n",
       "1  ../data/split_1/train/1/2_new.jpg     1.0  0.678649         2\n",
       "2  ../data/split_1/train/1/3_new.jpg     1.0  0.571372         3\n",
       "3  ../data/split_1/train/1/4_new.jpg     1.0  0.683006         4\n",
       "4  ../data/split_1/train/0/5_new.jpg     0.0  0.299800         5"
      ]
     },
     "execution_count": 17,
     "metadata": {},
     "output_type": "execute_result"
    }
   ],
   "source": [
    "preds_new['study_id'] = preds_new['study_id'].astype(int)\n",
    "preds_new.sort_values(by=['study_id'], inplace=True)\n",
    "preds_new.reset_index(drop=True, inplace=True)\n",
    "preds_new.head()"
   ]
  },
  {
   "cell_type": "code",
   "execution_count": 18,
   "metadata": {},
   "outputs": [
    {
     "data": {
      "text/plain": [
       "0.6714034662465156"
      ]
     },
     "execution_count": 18,
     "metadata": {},
     "output_type": "execute_result"
    }
   ],
   "source": [
    "roc_auc_score(preds_new['y_true'], preds_new['y_pred'])"
   ]
  },
  {
   "cell_type": "code",
   "execution_count": 19,
   "metadata": {},
   "outputs": [
    {
     "data": {
      "text/html": [
       "<div>\n",
       "<style scoped>\n",
       "    .dataframe tbody tr th:only-of-type {\n",
       "        vertical-align: middle;\n",
       "    }\n",
       "\n",
       "    .dataframe tbody tr th {\n",
       "        vertical-align: top;\n",
       "    }\n",
       "\n",
       "    .dataframe thead th {\n",
       "        text-align: right;\n",
       "    }\n",
       "</style>\n",
       "<table border=\"1\" class=\"dataframe\">\n",
       "  <thead>\n",
       "    <tr style=\"text-align: right;\">\n",
       "      <th></th>\n",
       "      <th>study_id</th>\n",
       "      <th>age</th>\n",
       "      <th>race/ethnicity</th>\n",
       "      <th>bmi</th>\n",
       "      <th>density</th>\n",
       "      <th>tumor_grade</th>\n",
       "      <th>tumor_size</th>\n",
       "      <th>tumor_type</th>\n",
       "      <th>margin</th>\n",
       "      <th>y_pred</th>\n",
       "    </tr>\n",
       "  </thead>\n",
       "  <tbody>\n",
       "    <tr>\n",
       "      <th>0</th>\n",
       "      <td>1</td>\n",
       "      <td>46.0</td>\n",
       "      <td>Asian</td>\n",
       "      <td>18.97</td>\n",
       "      <td>D</td>\n",
       "      <td>2.0</td>\n",
       "      <td>10.000000</td>\n",
       "      <td>IDC</td>\n",
       "      <td>1.0</td>\n",
       "      <td>0.451744</td>\n",
       "    </tr>\n",
       "    <tr>\n",
       "      <th>1</th>\n",
       "      <td>2</td>\n",
       "      <td>47.0</td>\n",
       "      <td>Hispanic</td>\n",
       "      <td>40.28</td>\n",
       "      <td>B</td>\n",
       "      <td>2.0</td>\n",
       "      <td>4.000000</td>\n",
       "      <td>IDC</td>\n",
       "      <td>1.0</td>\n",
       "      <td>0.678649</td>\n",
       "    </tr>\n",
       "    <tr>\n",
       "      <th>2</th>\n",
       "      <td>3</td>\n",
       "      <td>61.0</td>\n",
       "      <td>Non-Hispanic White</td>\n",
       "      <td>24.44</td>\n",
       "      <td>C</td>\n",
       "      <td>2.0</td>\n",
       "      <td>7.553571</td>\n",
       "      <td>DCIS</td>\n",
       "      <td>1.0</td>\n",
       "      <td>0.571372</td>\n",
       "    </tr>\n",
       "    <tr>\n",
       "      <th>3</th>\n",
       "      <td>4</td>\n",
       "      <td>59.0</td>\n",
       "      <td>Non-Hispanic White</td>\n",
       "      <td>24.21</td>\n",
       "      <td>C</td>\n",
       "      <td>1.0</td>\n",
       "      <td>10.000000</td>\n",
       "      <td>IDC</td>\n",
       "      <td>1.0</td>\n",
       "      <td>0.683006</td>\n",
       "    </tr>\n",
       "    <tr>\n",
       "      <th>4</th>\n",
       "      <td>5</td>\n",
       "      <td>40.0</td>\n",
       "      <td>Non-Hispanic White</td>\n",
       "      <td>21.80</td>\n",
       "      <td>C</td>\n",
       "      <td>3.0</td>\n",
       "      <td>11.000000</td>\n",
       "      <td>IDC</td>\n",
       "      <td>0.0</td>\n",
       "      <td>0.299800</td>\n",
       "    </tr>\n",
       "  </tbody>\n",
       "</table>\n",
       "</div>"
      ],
      "text/plain": [
       "   study_id   age      race/ethnicity    bmi density  tumor_grade  tumor_size  \\\n",
       "0         1  46.0               Asian  18.97       D          2.0   10.000000   \n",
       "1         2  47.0            Hispanic  40.28       B          2.0    4.000000   \n",
       "2         3  61.0  Non-Hispanic White  24.44       C          2.0    7.553571   \n",
       "3         4  59.0  Non-Hispanic White  24.21       C          1.0   10.000000   \n",
       "4         5  40.0  Non-Hispanic White  21.80       C          3.0   11.000000   \n",
       "\n",
       "  tumor_type  margin    y_pred  \n",
       "0        IDC     1.0  0.451744  \n",
       "1        IDC     1.0  0.678649  \n",
       "2       DCIS     1.0  0.571372  \n",
       "3        IDC     1.0  0.683006  \n",
       "4        IDC     0.0  0.299800  "
      ]
     },
     "execution_count": 19,
     "metadata": {},
     "output_type": "execute_result"
    }
   ],
   "source": [
    "test_clin['y_pred'] = np.NaN\n",
    "test_clin.update(preds_new)\n",
    "test_clin.head()"
   ]
  },
  {
   "cell_type": "code",
   "execution_count": 20,
   "metadata": {},
   "outputs": [
    {
     "data": {
      "text/plain": [
       "0.6714034662465156"
      ]
     },
     "execution_count": 20,
     "metadata": {},
     "output_type": "execute_result"
    }
   ],
   "source": [
    "roc_auc_score(test_clin['margin'], test_clin['y_pred'])"
   ]
  },
  {
   "cell_type": "code",
   "execution_count": 21,
   "metadata": {},
   "outputs": [
    {
     "data": {
      "text/html": [
       "<div>\n",
       "<style scoped>\n",
       "    .dataframe tbody tr th:only-of-type {\n",
       "        vertical-align: middle;\n",
       "    }\n",
       "\n",
       "    .dataframe tbody tr th {\n",
       "        vertical-align: top;\n",
       "    }\n",
       "\n",
       "    .dataframe thead th {\n",
       "        text-align: right;\n",
       "    }\n",
       "</style>\n",
       "<table border=\"1\" class=\"dataframe\">\n",
       "  <thead>\n",
       "    <tr style=\"text-align: right;\">\n",
       "      <th></th>\n",
       "      <th>age</th>\n",
       "      <th>race/ethnicity</th>\n",
       "      <th>bmi</th>\n",
       "      <th>density</th>\n",
       "      <th>tumor_grade</th>\n",
       "      <th>tumor_size</th>\n",
       "      <th>tumor_type</th>\n",
       "      <th>margin</th>\n",
       "      <th>y_pred</th>\n",
       "    </tr>\n",
       "    <tr>\n",
       "      <th>study_id</th>\n",
       "      <th></th>\n",
       "      <th></th>\n",
       "      <th></th>\n",
       "      <th></th>\n",
       "      <th></th>\n",
       "      <th></th>\n",
       "      <th></th>\n",
       "      <th></th>\n",
       "      <th></th>\n",
       "    </tr>\n",
       "  </thead>\n",
       "  <tbody>\n",
       "    <tr>\n",
       "      <th>1</th>\n",
       "      <td>46.0</td>\n",
       "      <td>Asian</td>\n",
       "      <td>18.97</td>\n",
       "      <td>D</td>\n",
       "      <td>2.0</td>\n",
       "      <td>10.000000</td>\n",
       "      <td>IDC</td>\n",
       "      <td>1.0</td>\n",
       "      <td>0.451744</td>\n",
       "    </tr>\n",
       "    <tr>\n",
       "      <th>2</th>\n",
       "      <td>47.0</td>\n",
       "      <td>Hispanic</td>\n",
       "      <td>40.28</td>\n",
       "      <td>B</td>\n",
       "      <td>2.0</td>\n",
       "      <td>4.000000</td>\n",
       "      <td>IDC</td>\n",
       "      <td>1.0</td>\n",
       "      <td>0.678649</td>\n",
       "    </tr>\n",
       "    <tr>\n",
       "      <th>3</th>\n",
       "      <td>61.0</td>\n",
       "      <td>Non-Hispanic White</td>\n",
       "      <td>24.44</td>\n",
       "      <td>C</td>\n",
       "      <td>2.0</td>\n",
       "      <td>7.553571</td>\n",
       "      <td>DCIS</td>\n",
       "      <td>1.0</td>\n",
       "      <td>0.571372</td>\n",
       "    </tr>\n",
       "    <tr>\n",
       "      <th>4</th>\n",
       "      <td>59.0</td>\n",
       "      <td>Non-Hispanic White</td>\n",
       "      <td>24.21</td>\n",
       "      <td>C</td>\n",
       "      <td>1.0</td>\n",
       "      <td>10.000000</td>\n",
       "      <td>IDC</td>\n",
       "      <td>1.0</td>\n",
       "      <td>0.683006</td>\n",
       "    </tr>\n",
       "    <tr>\n",
       "      <th>5</th>\n",
       "      <td>40.0</td>\n",
       "      <td>Non-Hispanic White</td>\n",
       "      <td>21.80</td>\n",
       "      <td>C</td>\n",
       "      <td>3.0</td>\n",
       "      <td>11.000000</td>\n",
       "      <td>IDC</td>\n",
       "      <td>0.0</td>\n",
       "      <td>0.299800</td>\n",
       "    </tr>\n",
       "  </tbody>\n",
       "</table>\n",
       "</div>"
      ],
      "text/plain": [
       "           age      race/ethnicity    bmi density  tumor_grade  tumor_size  \\\n",
       "study_id                                                                     \n",
       "1         46.0               Asian  18.97       D          2.0   10.000000   \n",
       "2         47.0            Hispanic  40.28       B          2.0    4.000000   \n",
       "3         61.0  Non-Hispanic White  24.44       C          2.0    7.553571   \n",
       "4         59.0  Non-Hispanic White  24.21       C          1.0   10.000000   \n",
       "5         40.0  Non-Hispanic White  21.80       C          3.0   11.000000   \n",
       "\n",
       "         tumor_type  margin    y_pred  \n",
       "study_id                               \n",
       "1               IDC     1.0  0.451744  \n",
       "2               IDC     1.0  0.678649  \n",
       "3              DCIS     1.0  0.571372  \n",
       "4               IDC     1.0  0.683006  \n",
       "5               IDC     0.0  0.299800  "
      ]
     },
     "execution_count": 21,
     "metadata": {},
     "output_type": "execute_result"
    }
   ],
   "source": [
    "test_clin.set_index('study_id', inplace=True)\n",
    "test_clin.head()"
   ]
  },
  {
   "cell_type": "code",
   "execution_count": 22,
   "metadata": {},
   "outputs": [
    {
     "data": {
      "text/plain": [
       "0.6714034662465156"
      ]
     },
     "execution_count": 22,
     "metadata": {},
     "output_type": "execute_result"
    }
   ],
   "source": [
    "roc_auc_score(test_clin['margin'], test_clin['y_pred'])"
   ]
  },
  {
   "cell_type": "code",
   "execution_count": 23,
   "metadata": {},
   "outputs": [],
   "source": [
    "cat_cols = ['race/ethnicity', 'density', 'tumor_grade', 'tumor_type']\n",
    "for col in cat_cols:\n",
    "    test_clin[col] = test_clin[col].astype('category')"
   ]
  },
  {
   "cell_type": "code",
   "execution_count": 24,
   "metadata": {},
   "outputs": [],
   "source": [
    "densities = test_clin['density'].cat.categories.tolist()\n",
    "race_eths = test_clin['race/ethnicity'].cat.categories.tolist()\n",
    "tumor_grades = test_clin['tumor_grade'].cat.categories.tolist()\n",
    "tumor_types = test_clin['tumor_type'].cat.categories.tolist()"
   ]
  },
  {
   "cell_type": "code",
   "execution_count": 25,
   "metadata": {},
   "outputs": [
    {
     "data": {
      "text/html": [
       "<div>\n",
       "<style scoped>\n",
       "    .dataframe tbody tr th:only-of-type {\n",
       "        vertical-align: middle;\n",
       "    }\n",
       "\n",
       "    .dataframe tbody tr th {\n",
       "        vertical-align: top;\n",
       "    }\n",
       "\n",
       "    .dataframe thead th {\n",
       "        text-align: right;\n",
       "    }\n",
       "</style>\n",
       "<table border=\"1\" class=\"dataframe\">\n",
       "  <thead>\n",
       "    <tr style=\"text-align: right;\">\n",
       "      <th></th>\n",
       "      <th>subset</th>\n",
       "      <th>AUROC</th>\n",
       "      <th>AUPRC</th>\n",
       "      <th>Sensitivity</th>\n",
       "      <th>Specificity</th>\n",
       "      <th>PPV</th>\n",
       "      <th>NPV</th>\n",
       "    </tr>\n",
       "  </thead>\n",
       "  <tbody>\n",
       "    <tr>\n",
       "      <th>0</th>\n",
       "      <td>A</td>\n",
       "      <td>0.651515</td>\n",
       "      <td>0.825982</td>\n",
       "      <td>0.909091</td>\n",
       "      <td>0.000000</td>\n",
       "      <td>0.625000</td>\n",
       "      <td>0.000000</td>\n",
       "    </tr>\n",
       "    <tr>\n",
       "      <th>1</th>\n",
       "      <td>B</td>\n",
       "      <td>0.661326</td>\n",
       "      <td>0.715312</td>\n",
       "      <td>0.943925</td>\n",
       "      <td>0.142857</td>\n",
       "      <td>0.651613</td>\n",
       "      <td>0.600000</td>\n",
       "    </tr>\n",
       "    <tr>\n",
       "      <th>2</th>\n",
       "      <td>C</td>\n",
       "      <td>0.713546</td>\n",
       "      <td>0.730348</td>\n",
       "      <td>0.934211</td>\n",
       "      <td>0.295082</td>\n",
       "      <td>0.622807</td>\n",
       "      <td>0.782609</td>\n",
       "    </tr>\n",
       "    <tr>\n",
       "      <th>3</th>\n",
       "      <td>D</td>\n",
       "      <td>0.590038</td>\n",
       "      <td>0.702300</td>\n",
       "      <td>0.793103</td>\n",
       "      <td>0.388889</td>\n",
       "      <td>0.676471</td>\n",
       "      <td>0.538462</td>\n",
       "    </tr>\n",
       "  </tbody>\n",
       "</table>\n",
       "</div>"
      ],
      "text/plain": [
       "  subset     AUROC     AUPRC  Sensitivity  Specificity       PPV       NPV\n",
       "0      A  0.651515  0.825982     0.909091     0.000000  0.625000  0.000000\n",
       "1      B  0.661326  0.715312     0.943925     0.142857  0.651613  0.600000\n",
       "2      C  0.713546  0.730348     0.934211     0.295082  0.622807  0.782609\n",
       "3      D  0.590038  0.702300     0.793103     0.388889  0.676471  0.538462"
      ]
     },
     "execution_count": 25,
     "metadata": {},
     "output_type": "execute_result"
    }
   ],
   "source": [
    "#make a dataframe with auroc, sensitivity, specificity, positive predictive value, negative predictive value\n",
    "res_df = pd.DataFrame(columns = ['subset', 'AUROC', 'AUPRC', 'Sensitivity', 'Specificity', 'PPV', 'NPV'])\n",
    "for density in densities:\n",
    "    subset = test_clin.loc[test_clin['density'] == density]\n",
    "    y_true = subset['margin']\n",
    "    y_pred = subset['y_pred']\n",
    "    auroc = roc_auc_score(y_true, y_pred)\n",
    "    precision, recall, thresholds = precision_recall_curve(y_true, y_pred)\n",
    "    auprc = auc(recall, precision)\n",
    "    fpr, tpr, thresholds = roc_curve(y_true, y_pred)\n",
    "    tn, fp, fn, tp = confusion_matrix(y_true, y_pred.round()).ravel()\n",
    "    sensitivity = tp/(tp+fn)\n",
    "    specificity = tn/(tn+fp)\n",
    "    ppv = tp/(tp+fp)\n",
    "    npv = tn/(tn+fn)\n",
    "    res_df = res_df.append({'subset': density, 'AUROC': auroc, 'AUPRC': auprc, 'Sensitivity': sensitivity, 'Specificity': specificity, 'PPV': ppv, 'NPV': npv}, ignore_index=True)\n",
    "res_df.head()"
   ]
  },
  {
   "cell_type": "code",
   "execution_count": 26,
   "metadata": {},
   "outputs": [],
   "source": [
    "res_df.to_csv('../results/res_density.csv', index=False)"
   ]
  },
  {
   "cell_type": "code",
   "execution_count": 27,
   "metadata": {},
   "outputs": [
    {
     "data": {
      "text/html": [
       "<div>\n",
       "<style scoped>\n",
       "    .dataframe tbody tr th:only-of-type {\n",
       "        vertical-align: middle;\n",
       "    }\n",
       "\n",
       "    .dataframe tbody tr th {\n",
       "        vertical-align: top;\n",
       "    }\n",
       "\n",
       "    .dataframe thead th {\n",
       "        text-align: right;\n",
       "    }\n",
       "</style>\n",
       "<table border=\"1\" class=\"dataframe\">\n",
       "  <thead>\n",
       "    <tr style=\"text-align: right;\">\n",
       "      <th>race/ethnicity</th>\n",
       "      <th>Asian</th>\n",
       "      <th>Hispanic</th>\n",
       "      <th>Non-Hispanic Black</th>\n",
       "      <th>Non-Hispanic White</th>\n",
       "      <th>Other/Unknown</th>\n",
       "    </tr>\n",
       "    <tr>\n",
       "      <th>margin</th>\n",
       "      <th></th>\n",
       "      <th></th>\n",
       "      <th></th>\n",
       "      <th></th>\n",
       "      <th></th>\n",
       "    </tr>\n",
       "  </thead>\n",
       "  <tbody>\n",
       "    <tr>\n",
       "      <th>0.0</th>\n",
       "      <td>7</td>\n",
       "      <td>9</td>\n",
       "      <td>25</td>\n",
       "      <td>104</td>\n",
       "      <td>3</td>\n",
       "    </tr>\n",
       "    <tr>\n",
       "      <th>1.0</th>\n",
       "      <td>5</td>\n",
       "      <td>20</td>\n",
       "      <td>42</td>\n",
       "      <td>156</td>\n",
       "      <td>0</td>\n",
       "    </tr>\n",
       "  </tbody>\n",
       "</table>\n",
       "</div>"
      ],
      "text/plain": [
       "race/ethnicity  Asian  Hispanic  Non-Hispanic Black  Non-Hispanic White  \\\n",
       "margin                                                                    \n",
       "0.0                 7         9                  25                 104   \n",
       "1.0                 5        20                  42                 156   \n",
       "\n",
       "race/ethnicity  Other/Unknown  \n",
       "margin                         \n",
       "0.0                         3  \n",
       "1.0                         0  "
      ]
     },
     "execution_count": 27,
     "metadata": {},
     "output_type": "execute_result"
    }
   ],
   "source": [
    "pd.crosstab(test_clin['margin'], test_clin['race/ethnicity'])"
   ]
  },
  {
   "cell_type": "code",
   "execution_count": 28,
   "metadata": {},
   "outputs": [],
   "source": [
    "race_eths.remove('Other/Unknown')"
   ]
  },
  {
   "cell_type": "code",
   "execution_count": 29,
   "metadata": {},
   "outputs": [
    {
     "data": {
      "text/html": [
       "<div>\n",
       "<style scoped>\n",
       "    .dataframe tbody tr th:only-of-type {\n",
       "        vertical-align: middle;\n",
       "    }\n",
       "\n",
       "    .dataframe tbody tr th {\n",
       "        vertical-align: top;\n",
       "    }\n",
       "\n",
       "    .dataframe thead th {\n",
       "        text-align: right;\n",
       "    }\n",
       "</style>\n",
       "<table border=\"1\" class=\"dataframe\">\n",
       "  <thead>\n",
       "    <tr style=\"text-align: right;\">\n",
       "      <th></th>\n",
       "      <th>subset</th>\n",
       "      <th>AUROC</th>\n",
       "      <th>AUPRC</th>\n",
       "      <th>Sensitivity</th>\n",
       "      <th>Specificity</th>\n",
       "      <th>PPV</th>\n",
       "      <th>NPV</th>\n",
       "    </tr>\n",
       "  </thead>\n",
       "  <tbody>\n",
       "    <tr>\n",
       "      <th>0</th>\n",
       "      <td>Asian</td>\n",
       "      <td>0.828571</td>\n",
       "      <td>0.885455</td>\n",
       "      <td>0.800000</td>\n",
       "      <td>0.285714</td>\n",
       "      <td>0.444444</td>\n",
       "      <td>0.666667</td>\n",
       "    </tr>\n",
       "    <tr>\n",
       "      <th>1</th>\n",
       "      <td>Hispanic</td>\n",
       "      <td>0.738889</td>\n",
       "      <td>0.771073</td>\n",
       "      <td>0.950000</td>\n",
       "      <td>0.444444</td>\n",
       "      <td>0.791667</td>\n",
       "      <td>0.800000</td>\n",
       "    </tr>\n",
       "    <tr>\n",
       "      <th>2</th>\n",
       "      <td>Non-Hispanic Black</td>\n",
       "      <td>0.727619</td>\n",
       "      <td>0.838760</td>\n",
       "      <td>0.904762</td>\n",
       "      <td>0.240000</td>\n",
       "      <td>0.666667</td>\n",
       "      <td>0.600000</td>\n",
       "    </tr>\n",
       "    <tr>\n",
       "      <th>3</th>\n",
       "      <td>Non-Hispanic White</td>\n",
       "      <td>0.631349</td>\n",
       "      <td>0.680490</td>\n",
       "      <td>0.923077</td>\n",
       "      <td>0.192308</td>\n",
       "      <td>0.631579</td>\n",
       "      <td>0.625000</td>\n",
       "    </tr>\n",
       "  </tbody>\n",
       "</table>\n",
       "</div>"
      ],
      "text/plain": [
       "               subset     AUROC     AUPRC  Sensitivity  Specificity       PPV  \\\n",
       "0               Asian  0.828571  0.885455     0.800000     0.285714  0.444444   \n",
       "1            Hispanic  0.738889  0.771073     0.950000     0.444444  0.791667   \n",
       "2  Non-Hispanic Black  0.727619  0.838760     0.904762     0.240000  0.666667   \n",
       "3  Non-Hispanic White  0.631349  0.680490     0.923077     0.192308  0.631579   \n",
       "\n",
       "        NPV  \n",
       "0  0.666667  \n",
       "1  0.800000  \n",
       "2  0.600000  \n",
       "3  0.625000  "
      ]
     },
     "execution_count": 29,
     "metadata": {},
     "output_type": "execute_result"
    }
   ],
   "source": [
    "#make a dataframe with auroc, sensitivity, specificity, positive predictive value, negative predictive value\n",
    "res_df = pd.DataFrame(columns = ['subset', 'AUROC', 'AUPRC', 'Sensitivity', 'Specificity', 'PPV', 'NPV'])\n",
    "for density in race_eths:\n",
    "    subset = test_clin.loc[test_clin['race/ethnicity'] == density]\n",
    "    y_true = subset['margin']\n",
    "    y_pred = subset['y_pred']\n",
    "    auroc = roc_auc_score(y_true, y_pred)\n",
    "    precision, recall, thresholds = precision_recall_curve(y_true, y_pred)\n",
    "    auprc = auc(recall, precision)\n",
    "    fpr, tpr, thresholds = roc_curve(y_true, y_pred)\n",
    "    tn, fp, fn, tp = confusion_matrix(y_true, y_pred.round()).ravel()\n",
    "    sensitivity = tp/(tp+fn)\n",
    "    specificity = tn/(tn+fp)\n",
    "    ppv = tp/(tp+fp)\n",
    "    npv = tn/(tn+fn)\n",
    "    res_df = res_df.append({'subset': density, 'AUROC': auroc, 'AUPRC': auprc, 'Sensitivity': sensitivity, 'Specificity': specificity, 'PPV': ppv, 'NPV': npv}, ignore_index=True)\n",
    "res_df.head()"
   ]
  },
  {
   "cell_type": "code",
   "execution_count": 30,
   "metadata": {},
   "outputs": [],
   "source": [
    "res_df.to_csv('../results/res_raceth.csv', index=False)"
   ]
  },
  {
   "cell_type": "code",
   "execution_count": 33,
   "metadata": {},
   "outputs": [
    {
     "data": {
      "text/plain": [
       "Non-Hispanic White    260\n",
       "Non-White             111\n",
       "Name: Race/Ethnicity, dtype: int64"
      ]
     },
     "execution_count": 33,
     "metadata": {},
     "output_type": "execute_result"
    }
   ],
   "source": [
    "test_clin['Race/Ethnicity'] = np.NaN\n",
    "test_clin.loc[test_clin['race/ethnicity'] == 'Non-Hispanic White', 'Race/Ethnicity'] = 'Non-Hispanic White'\n",
    "test_clin['Race/Ethnicity'].fillna('Non-White', inplace=True)\n",
    "test_clin['Race/Ethnicity'].value_counts(dropna=False)"
   ]
  },
  {
   "cell_type": "code",
   "execution_count": 37,
   "metadata": {},
   "outputs": [
    {
     "data": {
      "text/html": [
       "<div>\n",
       "<style scoped>\n",
       "    .dataframe tbody tr th:only-of-type {\n",
       "        vertical-align: middle;\n",
       "    }\n",
       "\n",
       "    .dataframe tbody tr th {\n",
       "        vertical-align: top;\n",
       "    }\n",
       "\n",
       "    .dataframe thead th {\n",
       "        text-align: right;\n",
       "    }\n",
       "</style>\n",
       "<table border=\"1\" class=\"dataframe\">\n",
       "  <thead>\n",
       "    <tr style=\"text-align: right;\">\n",
       "      <th>Race/Ethnicity</th>\n",
       "      <th>Non-Hispanic White</th>\n",
       "      <th>Non-White</th>\n",
       "    </tr>\n",
       "    <tr>\n",
       "      <th>density</th>\n",
       "      <th></th>\n",
       "      <th></th>\n",
       "    </tr>\n",
       "  </thead>\n",
       "  <tbody>\n",
       "    <tr>\n",
       "      <th>A</th>\n",
       "      <td>9</td>\n",
       "      <td>8</td>\n",
       "    </tr>\n",
       "    <tr>\n",
       "      <th>B</th>\n",
       "      <td>121</td>\n",
       "      <td>49</td>\n",
       "    </tr>\n",
       "    <tr>\n",
       "      <th>C</th>\n",
       "      <td>93</td>\n",
       "      <td>44</td>\n",
       "    </tr>\n",
       "    <tr>\n",
       "      <th>D</th>\n",
       "      <td>37</td>\n",
       "      <td>10</td>\n",
       "    </tr>\n",
       "  </tbody>\n",
       "</table>\n",
       "</div>"
      ],
      "text/plain": [
       "Race/Ethnicity  Non-Hispanic White  Non-White\n",
       "density                                      \n",
       "A                                9          8\n",
       "B                              121         49\n",
       "C                               93         44\n",
       "D                               37         10"
      ]
     },
     "execution_count": 37,
     "metadata": {},
     "output_type": "execute_result"
    }
   ],
   "source": [
    "raceth_density = pd.crosstab(test_clin['density'], test_clin['Race/Ethnicity'])\n",
    "raceth_density\n"
   ]
  },
  {
   "cell_type": "code",
   "execution_count": 36,
   "metadata": {},
   "outputs": [
    {
     "data": {
      "text/html": [
       "<div>\n",
       "<style scoped>\n",
       "    .dataframe tbody tr th:only-of-type {\n",
       "        vertical-align: middle;\n",
       "    }\n",
       "\n",
       "    .dataframe tbody tr th {\n",
       "        vertical-align: top;\n",
       "    }\n",
       "\n",
       "    .dataframe thead th {\n",
       "        text-align: right;\n",
       "    }\n",
       "</style>\n",
       "<table border=\"1\" class=\"dataframe\">\n",
       "  <thead>\n",
       "    <tr style=\"text-align: right;\">\n",
       "      <th>Race/Ethnicity</th>\n",
       "      <th>Non-Hispanic White</th>\n",
       "      <th>Non-White</th>\n",
       "    </tr>\n",
       "    <tr>\n",
       "      <th>density</th>\n",
       "      <th></th>\n",
       "      <th></th>\n",
       "    </tr>\n",
       "  </thead>\n",
       "  <tbody>\n",
       "    <tr>\n",
       "      <th>A</th>\n",
       "      <td>0.034615</td>\n",
       "      <td>0.072072</td>\n",
       "    </tr>\n",
       "    <tr>\n",
       "      <th>B</th>\n",
       "      <td>0.465385</td>\n",
       "      <td>0.441441</td>\n",
       "    </tr>\n",
       "    <tr>\n",
       "      <th>C</th>\n",
       "      <td>0.357692</td>\n",
       "      <td>0.396396</td>\n",
       "    </tr>\n",
       "    <tr>\n",
       "      <th>D</th>\n",
       "      <td>0.142308</td>\n",
       "      <td>0.090090</td>\n",
       "    </tr>\n",
       "  </tbody>\n",
       "</table>\n",
       "</div>"
      ],
      "text/plain": [
       "Race/Ethnicity  Non-Hispanic White  Non-White\n",
       "density                                      \n",
       "A                         0.034615   0.072072\n",
       "B                         0.465385   0.441441\n",
       "C                         0.357692   0.396396\n",
       "D                         0.142308   0.090090"
      ]
     },
     "execution_count": 36,
     "metadata": {},
     "output_type": "execute_result"
    }
   ],
   "source": [
    "raceth_density_norm = pd.crosstab(test_clin['density'], test_clin['Race/Ethnicity'], normalize='columns')\n",
    "raceth_density_norm"
   ]
  },
  {
   "cell_type": "code",
   "execution_count": null,
   "metadata": {},
   "outputs": [],
   "source": [
    "raceth_density.to_csv('../results/raceth_density.csv')"
   ]
  }
 ],
 "metadata": {
  "kernelspec": {
   "display_name": "Python 3",
   "language": "python",
   "name": "python3"
  },
  "language_info": {
   "codemirror_mode": {
    "name": "ipython",
    "version": 3
   },
   "file_extension": ".py",
   "mimetype": "text/x-python",
   "name": "python",
   "nbconvert_exporter": "python",
   "pygments_lexer": "ipython3",
   "version": "3.8.10"
  },
  "orig_nbformat": 4,
  "vscode": {
   "interpreter": {
    "hash": "916dbcbb3f70747c44a77c7bcd40155683ae19c65e1c03b4aa3499c5328201f1"
   }
  }
 },
 "nbformat": 4,
 "nbformat_minor": 2
}
