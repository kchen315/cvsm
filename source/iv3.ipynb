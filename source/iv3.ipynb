{
 "cells": [
  {
   "cell_type": "code",
   "execution_count": 1,
   "metadata": {},
   "outputs": [],
   "source": [
    "# %%\n",
    "import argparse\n",
    "parser = argparse.ArgumentParser()\n",
    "parser.add_argument('--model_name', type=str, default='InceptionV3')\n",
    "parser.add_argument('--weights', type=str, default='radimagenet')\n",
    "parser.add_argument('--n_layers', type=int, default=4)\n",
    "parser.add_argument('--n_neurons', type=int, default=256)\n",
    "parser.add_argument('--n_dropout', type=float, default=0.0)\n",
    "parser.add_argument('--lr_1', type=float, default=3e-4)\n",
    "parser.add_argument('--lr_2', type=float, default=3e-6)\n",
    "parser.add_argument('--image_size', type=int, default=512, required=False)\n",
    "parser.add_argument('--batch_size', type=int, default=16, required=False)\n",
    "\n",
    "args = parser.parse_args(\"\")\n",
    "\n",
    "model_name = args.model_name\n",
    "weights = args.weights\n",
    "n_layers = args.n_layers\n",
    "n_neurons = args.n_neurons\n",
    "n_dropout = args.n_dropout\n",
    "lr_1 = args.lr_1\n",
    "lr_2 = args.lr_2\n",
    "img_size = args.image_size\n",
    "batch_size = args.batch_size\n"
   ]
  },
  {
   "cell_type": "code",
   "execution_count": 2,
   "metadata": {},
   "outputs": [
    {
     "ename": "SyntaxError",
     "evalue": "invalid syntax (1925908409.py, line 41)",
     "output_type": "error",
     "traceback": [
      "\u001b[0;36m  Input \u001b[0;32mIn [2]\u001b[0;36m\u001b[0m\n\u001b[0;31m    import\u001b[0m\n\u001b[0m           ^\u001b[0m\n\u001b[0;31mSyntaxError\u001b[0m\u001b[0;31m:\u001b[0m invalid syntax\n"
     ]
    }
   ],
   "source": [
    "# %%\n",
    "import tensorflow as tf\n",
    "from tensorflow import keras\n",
    "import numpy as np\n",
    "import os\n",
    "import matplotlib.pylab as plt\n",
    "from sklearn.metrics import roc_curve, roc_auc_score, recall_score\n",
    "from tensorflow.keras.applications import InceptionResNetV2, ResNet50, InceptionV3, DenseNet121, Xception\n",
    "import tensorflow_hub as hub\n",
    "import pandas as pd\n",
    "from sklearn.metrics import roc_auc_score, accuracy_score\n",
    "import keras_cv\n",
    "\n",
    "\n",
    "# %%\n",
    "train_dir = '../data/split_1/train'\n",
    "val_dir = '../data/split_1/val'\n",
    "test_dir = '../data/split_1/test'\n",
    "\n",
    "\n",
    "# %%\n",
    "train_ds = tf.keras.preprocessing.image_dataset_from_directory(train_dir, label_mode='binary', seed=0, image_size=(img_size, img_size), batch_size=batch_size, color_mode='rgb')\n",
    "val_ds = tf.keras.preprocessing.image_dataset_from_directory(val_dir, label_mode='binary', seed=0, image_size=(img_size, img_size), batch_size=batch_size, color_mode='rgb')\n",
    "test_ds = tf.keras.preprocessing.image_dataset_from_directory(test_dir, label_mode='binary', seed=0, image_size=(img_size, img_size), batch_size=1, color_mode='rgb')\n",
    "\n",
    "\n",
    "# %%\n",
    "#Apply data augmentation\n",
    "preprocessing_model = tf.keras.Sequential()\n",
    "preprocessing_model.add(\n",
    "    tf.keras.layers.experimental.preprocessing.RandomRotation(40))\n",
    "preprocessing_model.add(\n",
    "    tf.keras.layers.experimental.preprocessing.RandomTranslation(0.2, 0.2))\n",
    "preprocessing_model.add(\n",
    "    tf.keras.layers.experimental.preprocessing.RandomZoom(0.2, 0.2))\n",
    "preprocessing_model.add(\n",
    "    tf.keras.layers.experimental.preprocessing.RandomFlip(mode=\"horizontal\"))\n",
    "preprocessing_model.add(\n",
    "    tf.keras.layers.experimental.preprocessing.RandomFlip(mode=\"vertical\"))\n",
    "\n",
    "\n",
    "# %%\n",
    "train_ds = train_ds.map(lambda images, labels:\n",
    "                        (preprocessing_model(images), labels))\n"
   ]
  },
  {
   "cell_type": "code",
   "execution_count": 3,
   "metadata": {},
   "outputs": [],
   "source": [
    "if model_name == 'InceptionResNetV2':\n",
    "    preprocess_fx = tf.keras.applications.inception_resnet_v2.preprocess_input\n",
    "    model_dir = \"../RadImageNet/models/RadImageNet-IRV2_notop.h5\"\n",
    "    if weights == 'imagenet':\n",
    "        base_model = InceptionResNetV2(input_shape=(img_size, img_size, 3), include_top=False, weights='imagenet', pooling='avg')\n",
    "    elif weights == 'radimagenet':\n",
    "        base_model = InceptionResNetV2(input_shape=(img_size, img_size, 3), include_top=False, weights=model_dir, pooling='avg')\n",
    "elif model_name == 'ResNet50':\n",
    "    preprocess_fx = tf.keras.applications.resnet50.preprocess_input\n",
    "    model_dir = \"../RadImageNet/models/RadImageNet-ResNet50_notop.h5\"\n",
    "    if weights == 'imagenet':\n",
    "        base_model = ResNet50(input_shape=(img_size, img_size, 3), include_top=False, weights='imagenet', pooling='avg')\n",
    "    elif weights == 'radimagenet':\n",
    "        base_model = ResNet50(input_shape=(img_size, img_size, 3), include_top=False, weights=model_dir, pooling='avg')\n",
    "elif model_name == 'InceptionV3':\n",
    "    preprocess_fx = tf.keras.applications.inception_v3.preprocess_input\n",
    "    model_dir = \"../RadImageNet/models/RadImageNet-InceptionV3_notop.h5\"\n",
    "    if weights == 'imagenet':\n",
    "        base_model = InceptionV3(input_shape=(img_size, img_size, 3), include_top=False, weights='imagenet', pooling='avg')\n",
    "    elif weights == 'radimagenet':\n",
    "        base_model = InceptionV3(input_shape=(img_size, img_size, 3), include_top=False, weights=model_dir, pooling='avg')\n",
    "elif model_name == 'DenseNet121':\n",
    "    preprocess_fx = tf.keras.applications.densenet.preprocess_input\n",
    "    model_dir = \"../RadImageNet/models/RadImageNet-DenseNet121_notop.h5\"\n",
    "    if weights == 'imagenet':\n",
    "        base_model = DenseNet121(input_shape=(img_size, img_size, 3), include_top=False, weights='imagenet', pooling='avg')\n",
    "    elif weights == 'radimagenet':\n",
    "        base_model = DenseNet121(input_shape=(img_size, img_size, 3), include_top=False, weights=model_dir, pooling='avg')\n",
    "elif model_name == 'Xception':\n",
    "    preprocess_fx = tf.keras.applications.xception.preprocess_input\n",
    "    if weights == 'imagenet':\n",
    "        base_model = tf.keras.applications.Xception(input_shape=(img_size, img_size, 3), include_top=False, weights='imagenet', pooling='avg')\n",
    "elif model_name == 'BiT':\n",
    "    base_model = hub.KerasLayer(\"https://tfhub.dev/google/bit/m-r50x1/1\", trainable=False)\n",
    "    preprocess_fx = tf.keras.applications.resnet50.preprocess_input\n",
    "    \n"
   ]
  },
  {
   "cell_type": "code",
   "execution_count": 4,
   "metadata": {},
   "outputs": [],
   "source": [
    "\n",
    "\n",
    "inputs = keras.Input(shape=(img_size, img_size, 3))\n",
    "y = preprocess_fx(inputs)\n",
    "y = base_model(y, training=False)\n",
    "for i in range(n_layers):\n",
    "    y = keras.layers.Dense(n_neurons, activation='relu')(y)\n",
    "    y = keras.layers.Dropout(n_dropout)(y)\n",
    "outputs = keras.layers.Dense(1, activation='sigmoid')(y)\n",
    "model = keras.Model(inputs, outputs)\n",
    "\n",
    "# %%\n",
    "early_stopping = keras.callbacks.EarlyStopping(patience=100, min_delta=1e-10, restore_best_weights=True)\n",
    "\n",
    "# %%\n",
    "\n",
    "model.compile(\n",
    "    optimizer=keras.optimizers.Adam(lr_1), \n",
    "    loss=keras.losses.BinaryCrossentropy(from_logits=False),\n",
    "    metrics=[keras.metrics.BinaryAccuracy(), keras.metrics.AUC()],\n",
    ")\n",
    "\n",
    "epochs = 1000\n"
   ]
  },
  {
   "cell_type": "code",
   "execution_count": 5,
   "metadata": {},
   "outputs": [
    {
     "name": "stdout",
     "output_type": "stream",
     "text": [
      "Epoch 1/1000\n"
     ]
    },
    {
     "name": "stderr",
     "output_type": "stream",
     "text": [
      "2023-02-13 17:56:49.332132: E tensorflow/stream_executor/cuda/cuda_dnn.cc:371] Could not create cudnn handle: CUDNN_STATUS_NOT_INITIALIZED\n",
      "2023-02-13 17:56:49.332403: E tensorflow/stream_executor/cuda/cuda_dnn.cc:379] Possibly insufficient driver version: 525.85.12\n",
      "2023-02-13 17:56:49.332450: W tensorflow/core/framework/op_kernel.cc:1745] OP_REQUIRES failed at conv_ops.cc:1120 : UNKNOWN: Failed to get convolution algorithm. This is probably because cuDNN failed to initialize, so try looking to see if a warning log message was printed above.\n"
     ]
    },
    {
     "ename": "UnknownError",
     "evalue": "2 root error(s) found.\n  (0) UNKNOWN:  Failed to get convolution algorithm. This is probably because cuDNN failed to initialize, so try looking to see if a warning log message was printed above.\n\t [[node model/inception_v3/conv2d/Conv2D\n (defined at /home/kchen/.local/lib/python3.8/site-packages/keras/layers/convolutional.py:231)\n]]\n\t [[assert_less_equal/Assert/AssertGuard/pivot_f/_13/_51]]\n  (1) UNKNOWN:  Failed to get convolution algorithm. This is probably because cuDNN failed to initialize, so try looking to see if a warning log message was printed above.\n\t [[node model/inception_v3/conv2d/Conv2D\n (defined at /home/kchen/.local/lib/python3.8/site-packages/keras/layers/convolutional.py:231)\n]]\n0 successful operations.\n0 derived errors ignored. [Op:__inference_train_function_19999]\n\nErrors may have originated from an input operation.\nInput Source operations connected to node model/inception_v3/conv2d/Conv2D:\nIn[0] model/tf.math.subtract/Sub (defined at /home/kchen/.local/lib/python3.8/site-packages/keras/layers/core/tf_op_layer.py:261)\t\nIn[1] model/inception_v3/conv2d/Conv2D/ReadVariableOp:\n\nOperation defined at: (most recent call last)\n>>>   File \"/usr/lib/python3.8/runpy.py\", line 194, in _run_module_as_main\n>>>     return _run_code(code, main_globals, None,\n>>> \n>>>   File \"/usr/lib/python3.8/runpy.py\", line 87, in _run_code\n>>>     exec(code, run_globals)\n>>> \n>>>   File \"/home/kchen/.local/lib/python3.8/site-packages/ipykernel_launcher.py\", line 16, in <module>\n>>>     app.launch_new_instance()\n>>> \n>>>   File \"/home/kchen/.local/lib/python3.8/site-packages/traitlets/config/application.py\", line 846, in launch_instance\n>>>     app.start()\n>>> \n>>>   File \"/home/kchen/.local/lib/python3.8/site-packages/ipykernel/kernelapp.py\", line 677, in start\n>>>     self.io_loop.start()\n>>> \n>>>   File \"/home/kchen/.local/lib/python3.8/site-packages/tornado/platform/asyncio.py\", line 199, in start\n>>>     self.asyncio_loop.run_forever()\n>>> \n>>>   File \"/usr/lib/python3.8/asyncio/base_events.py\", line 570, in run_forever\n>>>     self._run_once()\n>>> \n>>>   File \"/usr/lib/python3.8/asyncio/base_events.py\", line 1859, in _run_once\n>>>     handle._run()\n>>> \n>>>   File \"/usr/lib/python3.8/asyncio/events.py\", line 81, in _run\n>>>     self._context.run(self._callback, *self._args)\n>>> \n>>>   File \"/home/kchen/.local/lib/python3.8/site-packages/ipykernel/kernelbase.py\", line 471, in dispatch_queue\n>>>     await self.process_one()\n>>> \n>>>   File \"/home/kchen/.local/lib/python3.8/site-packages/ipykernel/kernelbase.py\", line 460, in process_one\n>>>     await dispatch(*args)\n>>> \n>>>   File \"/home/kchen/.local/lib/python3.8/site-packages/ipykernel/kernelbase.py\", line 367, in dispatch_shell\n>>>     await result\n>>> \n>>>   File \"/home/kchen/.local/lib/python3.8/site-packages/ipykernel/kernelbase.py\", line 662, in execute_request\n>>>     reply_content = await reply_content\n>>> \n>>>   File \"/home/kchen/.local/lib/python3.8/site-packages/ipykernel/ipkernel.py\", line 360, in do_execute\n>>>     res = shell.run_cell(code, store_history=store_history, silent=silent)\n>>> \n>>>   File \"/home/kchen/.local/lib/python3.8/site-packages/ipykernel/zmqshell.py\", line 532, in run_cell\n>>>     return super().run_cell(*args, **kwargs)\n>>> \n>>>   File \"/home/kchen/.local/lib/python3.8/site-packages/IPython/core/interactiveshell.py\", line 2854, in run_cell\n>>>     result = self._run_cell(\n>>> \n>>>   File \"/home/kchen/.local/lib/python3.8/site-packages/IPython/core/interactiveshell.py\", line 2900, in _run_cell\n>>>     return runner(coro)\n>>> \n>>>   File \"/home/kchen/.local/lib/python3.8/site-packages/IPython/core/async_helpers.py\", line 129, in _pseudo_sync_runner\n>>>     coro.send(None)\n>>> \n>>>   File \"/home/kchen/.local/lib/python3.8/site-packages/IPython/core/interactiveshell.py\", line 3098, in run_cell_async\n>>>     has_raised = await self.run_ast_nodes(code_ast.body, cell_name,\n>>> \n>>>   File \"/home/kchen/.local/lib/python3.8/site-packages/IPython/core/interactiveshell.py\", line 3301, in run_ast_nodes\n>>>     if await self.run_code(code, result, async_=asy):\n>>> \n>>>   File \"/home/kchen/.local/lib/python3.8/site-packages/IPython/core/interactiveshell.py\", line 3361, in run_code\n>>>     exec(code_obj, self.user_global_ns, self.user_ns)\n>>> \n>>>   File \"/tmp/ipykernel_130320/2273705301.py\", line 1, in <cell line: 1>\n>>>     model.fit(train_ds, epochs=epochs, validation_data=val_ds, callbacks=early_stopping, verbose=1)\n>>> \n>>>   File \"/home/kchen/.local/lib/python3.8/site-packages/keras/utils/traceback_utils.py\", line 64, in error_handler\n>>>     return fn(*args, **kwargs)\n>>> \n>>>   File \"/home/kchen/.local/lib/python3.8/site-packages/keras/engine/training.py\", line 1216, in fit\n>>>     tmp_logs = self.train_function(iterator)\n>>> \n>>>   File \"/home/kchen/.local/lib/python3.8/site-packages/keras/engine/training.py\", line 878, in train_function\n>>>     return step_function(self, iterator)\n>>> \n>>>   File \"/home/kchen/.local/lib/python3.8/site-packages/keras/engine/training.py\", line 867, in step_function\n>>>     outputs = model.distribute_strategy.run(run_step, args=(data,))\n>>> \n>>>   File \"/home/kchen/.local/lib/python3.8/site-packages/keras/engine/training.py\", line 860, in run_step\n>>>     outputs = model.train_step(data)\n>>> \n>>>   File \"/home/kchen/.local/lib/python3.8/site-packages/keras/engine/training.py\", line 808, in train_step\n>>>     y_pred = self(x, training=True)\n>>> \n>>>   File \"/home/kchen/.local/lib/python3.8/site-packages/keras/utils/traceback_utils.py\", line 64, in error_handler\n>>>     return fn(*args, **kwargs)\n>>> \n>>>   File \"/home/kchen/.local/lib/python3.8/site-packages/keras/engine/base_layer.py\", line 1083, in __call__\n>>>     outputs = call_fn(inputs, *args, **kwargs)\n>>> \n>>>   File \"/home/kchen/.local/lib/python3.8/site-packages/keras/utils/traceback_utils.py\", line 92, in error_handler\n>>>     return fn(*args, **kwargs)\n>>> \n>>>   File \"/home/kchen/.local/lib/python3.8/site-packages/keras/engine/functional.py\", line 451, in call\n>>>     return self._run_internal_graph(\n>>> \n>>>   File \"/home/kchen/.local/lib/python3.8/site-packages/keras/engine/functional.py\", line 589, in _run_internal_graph\n>>>     outputs = node.layer(*args, **kwargs)\n>>> \n>>>   File \"/home/kchen/.local/lib/python3.8/site-packages/keras/utils/traceback_utils.py\", line 64, in error_handler\n>>>     return fn(*args, **kwargs)\n>>> \n>>>   File \"/home/kchen/.local/lib/python3.8/site-packages/keras/engine/base_layer.py\", line 1083, in __call__\n>>>     outputs = call_fn(inputs, *args, **kwargs)\n>>> \n>>>   File \"/home/kchen/.local/lib/python3.8/site-packages/keras/utils/traceback_utils.py\", line 92, in error_handler\n>>>     return fn(*args, **kwargs)\n>>> \n>>>   File \"/home/kchen/.local/lib/python3.8/site-packages/keras/engine/functional.py\", line 451, in call\n>>>     return self._run_internal_graph(\n>>> \n>>>   File \"/home/kchen/.local/lib/python3.8/site-packages/keras/engine/functional.py\", line 589, in _run_internal_graph\n>>>     outputs = node.layer(*args, **kwargs)\n>>> \n>>>   File \"/home/kchen/.local/lib/python3.8/site-packages/keras/utils/traceback_utils.py\", line 64, in error_handler\n>>>     return fn(*args, **kwargs)\n>>> \n>>>   File \"/home/kchen/.local/lib/python3.8/site-packages/keras/engine/base_layer.py\", line 1083, in __call__\n>>>     outputs = call_fn(inputs, *args, **kwargs)\n>>> \n>>>   File \"/home/kchen/.local/lib/python3.8/site-packages/keras/utils/traceback_utils.py\", line 92, in error_handler\n>>>     return fn(*args, **kwargs)\n>>> \n>>>   File \"/home/kchen/.local/lib/python3.8/site-packages/keras/layers/convolutional.py\", line 246, in call\n>>>     outputs = self.convolution_op(inputs, self.kernel)\n>>> \n>>>   File \"/home/kchen/.local/lib/python3.8/site-packages/keras/layers/convolutional.py\", line 231, in convolution_op\n>>>     return tf.nn.convolution(\n>>> \n\nInput Source operations connected to node model/inception_v3/conv2d/Conv2D:\nIn[0] model/tf.math.subtract/Sub (defined at /home/kchen/.local/lib/python3.8/site-packages/keras/layers/core/tf_op_layer.py:261)\t\nIn[1] model/inception_v3/conv2d/Conv2D/ReadVariableOp:\n\nOperation defined at: (most recent call last)\n>>>   File \"/usr/lib/python3.8/runpy.py\", line 194, in _run_module_as_main\n>>>     return _run_code(code, main_globals, None,\n>>> \n>>>   File \"/usr/lib/python3.8/runpy.py\", line 87, in _run_code\n>>>     exec(code, run_globals)\n>>> \n>>>   File \"/home/kchen/.local/lib/python3.8/site-packages/ipykernel_launcher.py\", line 16, in <module>\n>>>     app.launch_new_instance()\n>>> \n>>>   File \"/home/kchen/.local/lib/python3.8/site-packages/traitlets/config/application.py\", line 846, in launch_instance\n>>>     app.start()\n>>> \n>>>   File \"/home/kchen/.local/lib/python3.8/site-packages/ipykernel/kernelapp.py\", line 677, in start\n>>>     self.io_loop.start()\n>>> \n>>>   File \"/home/kchen/.local/lib/python3.8/site-packages/tornado/platform/asyncio.py\", line 199, in start\n>>>     self.asyncio_loop.run_forever()\n>>> \n>>>   File \"/usr/lib/python3.8/asyncio/base_events.py\", line 570, in run_forever\n>>>     self._run_once()\n>>> \n>>>   File \"/usr/lib/python3.8/asyncio/base_events.py\", line 1859, in _run_once\n>>>     handle._run()\n>>> \n>>>   File \"/usr/lib/python3.8/asyncio/events.py\", line 81, in _run\n>>>     self._context.run(self._callback, *self._args)\n>>> \n>>>   File \"/home/kchen/.local/lib/python3.8/site-packages/ipykernel/kernelbase.py\", line 471, in dispatch_queue\n>>>     await self.process_one()\n>>> \n>>>   File \"/home/kchen/.local/lib/python3.8/site-packages/ipykernel/kernelbase.py\", line 460, in process_one\n>>>     await dispatch(*args)\n>>> \n>>>   File \"/home/kchen/.local/lib/python3.8/site-packages/ipykernel/kernelbase.py\", line 367, in dispatch_shell\n>>>     await result\n>>> \n>>>   File \"/home/kchen/.local/lib/python3.8/site-packages/ipykernel/kernelbase.py\", line 662, in execute_request\n>>>     reply_content = await reply_content\n>>> \n>>>   File \"/home/kchen/.local/lib/python3.8/site-packages/ipykernel/ipkernel.py\", line 360, in do_execute\n>>>     res = shell.run_cell(code, store_history=store_history, silent=silent)\n>>> \n>>>   File \"/home/kchen/.local/lib/python3.8/site-packages/ipykernel/zmqshell.py\", line 532, in run_cell\n>>>     return super().run_cell(*args, **kwargs)\n>>> \n>>>   File \"/home/kchen/.local/lib/python3.8/site-packages/IPython/core/interactiveshell.py\", line 2854, in run_cell\n>>>     result = self._run_cell(\n>>> \n>>>   File \"/home/kchen/.local/lib/python3.8/site-packages/IPython/core/interactiveshell.py\", line 2900, in _run_cell\n>>>     return runner(coro)\n>>> \n>>>   File \"/home/kchen/.local/lib/python3.8/site-packages/IPython/core/async_helpers.py\", line 129, in _pseudo_sync_runner\n>>>     coro.send(None)\n>>> \n>>>   File \"/home/kchen/.local/lib/python3.8/site-packages/IPython/core/interactiveshell.py\", line 3098, in run_cell_async\n>>>     has_raised = await self.run_ast_nodes(code_ast.body, cell_name,\n>>> \n>>>   File \"/home/kchen/.local/lib/python3.8/site-packages/IPython/core/interactiveshell.py\", line 3301, in run_ast_nodes\n>>>     if await self.run_code(code, result, async_=asy):\n>>> \n>>>   File \"/home/kchen/.local/lib/python3.8/site-packages/IPython/core/interactiveshell.py\", line 3361, in run_code\n>>>     exec(code_obj, self.user_global_ns, self.user_ns)\n>>> \n>>>   File \"/tmp/ipykernel_130320/2273705301.py\", line 1, in <cell line: 1>\n>>>     model.fit(train_ds, epochs=epochs, validation_data=val_ds, callbacks=early_stopping, verbose=1)\n>>> \n>>>   File \"/home/kchen/.local/lib/python3.8/site-packages/keras/utils/traceback_utils.py\", line 64, in error_handler\n>>>     return fn(*args, **kwargs)\n>>> \n>>>   File \"/home/kchen/.local/lib/python3.8/site-packages/keras/engine/training.py\", line 1216, in fit\n>>>     tmp_logs = self.train_function(iterator)\n>>> \n>>>   File \"/home/kchen/.local/lib/python3.8/site-packages/keras/engine/training.py\", line 878, in train_function\n>>>     return step_function(self, iterator)\n>>> \n>>>   File \"/home/kchen/.local/lib/python3.8/site-packages/keras/engine/training.py\", line 867, in step_function\n>>>     outputs = model.distribute_strategy.run(run_step, args=(data,))\n>>> \n>>>   File \"/home/kchen/.local/lib/python3.8/site-packages/keras/engine/training.py\", line 860, in run_step\n>>>     outputs = model.train_step(data)\n>>> \n>>>   File \"/home/kchen/.local/lib/python3.8/site-packages/keras/engine/training.py\", line 808, in train_step\n>>>     y_pred = self(x, training=True)\n>>> \n>>>   File \"/home/kchen/.local/lib/python3.8/site-packages/keras/utils/traceback_utils.py\", line 64, in error_handler\n>>>     return fn(*args, **kwargs)\n>>> \n>>>   File \"/home/kchen/.local/lib/python3.8/site-packages/keras/engine/base_layer.py\", line 1083, in __call__\n>>>     outputs = call_fn(inputs, *args, **kwargs)\n>>> \n>>>   File \"/home/kchen/.local/lib/python3.8/site-packages/keras/utils/traceback_utils.py\", line 92, in error_handler\n>>>     return fn(*args, **kwargs)\n>>> \n>>>   File \"/home/kchen/.local/lib/python3.8/site-packages/keras/engine/functional.py\", line 451, in call\n>>>     return self._run_internal_graph(\n>>> \n>>>   File \"/home/kchen/.local/lib/python3.8/site-packages/keras/engine/functional.py\", line 589, in _run_internal_graph\n>>>     outputs = node.layer(*args, **kwargs)\n>>> \n>>>   File \"/home/kchen/.local/lib/python3.8/site-packages/keras/utils/traceback_utils.py\", line 64, in error_handler\n>>>     return fn(*args, **kwargs)\n>>> \n>>>   File \"/home/kchen/.local/lib/python3.8/site-packages/keras/engine/base_layer.py\", line 1083, in __call__\n>>>     outputs = call_fn(inputs, *args, **kwargs)\n>>> \n>>>   File \"/home/kchen/.local/lib/python3.8/site-packages/keras/utils/traceback_utils.py\", line 92, in error_handler\n>>>     return fn(*args, **kwargs)\n>>> \n>>>   File \"/home/kchen/.local/lib/python3.8/site-packages/keras/engine/functional.py\", line 451, in call\n>>>     return self._run_internal_graph(\n>>> \n>>>   File \"/home/kchen/.local/lib/python3.8/site-packages/keras/engine/functional.py\", line 589, in _run_internal_graph\n>>>     outputs = node.layer(*args, **kwargs)\n>>> \n>>>   File \"/home/kchen/.local/lib/python3.8/site-packages/keras/utils/traceback_utils.py\", line 64, in error_handler\n>>>     return fn(*args, **kwargs)\n>>> \n>>>   File \"/home/kchen/.local/lib/python3.8/site-packages/keras/engine/base_layer.py\", line 1083, in __call__\n>>>     outputs = call_fn(inputs, *args, **kwargs)\n>>> \n>>>   File \"/home/kchen/.local/lib/python3.8/site-packages/keras/utils/traceback_utils.py\", line 92, in error_handler\n>>>     return fn(*args, **kwargs)\n>>> \n>>>   File \"/home/kchen/.local/lib/python3.8/site-packages/keras/layers/convolutional.py\", line 246, in call\n>>>     outputs = self.convolution_op(inputs, self.kernel)\n>>> \n>>>   File \"/home/kchen/.local/lib/python3.8/site-packages/keras/layers/convolutional.py\", line 231, in convolution_op\n>>>     return tf.nn.convolution(\n>>> \n\nFunction call stack:\ntrain_function -> train_function\n",
     "output_type": "error",
     "traceback": [
      "\u001b[0;31m---------------------------------------------------------------------------\u001b[0m",
      "\u001b[0;31mUnknownError\u001b[0m                              Traceback (most recent call last)",
      "\u001b[1;32m/home/kchen/Documents/iom/source2/iv3.ipynb Cell 5\u001b[0m in \u001b[0;36m<cell line: 1>\u001b[0;34m()\u001b[0m\n\u001b[0;32m----> <a href='vscode-notebook-cell:/home/kchen/Documents/iom/source2/iv3.ipynb#W4sZmlsZQ%3D%3D?line=0'>1</a>\u001b[0m model\u001b[39m.\u001b[39;49mfit(train_ds, epochs\u001b[39m=\u001b[39;49mepochs, validation_data\u001b[39m=\u001b[39;49mval_ds, callbacks\u001b[39m=\u001b[39;49mearly_stopping, verbose\u001b[39m=\u001b[39;49m\u001b[39m1\u001b[39;49m)\n\u001b[1;32m      <a href='vscode-notebook-cell:/home/kchen/Documents/iom/source2/iv3.ipynb#W4sZmlsZQ%3D%3D?line=1'>2</a>\u001b[0m \u001b[39mprint\u001b[39m(\u001b[39m'\u001b[39m\u001b[39mphase 1 complete\u001b[39m\u001b[39m'\u001b[39m)\n\u001b[1;32m      <a href='vscode-notebook-cell:/home/kchen/Documents/iom/source2/iv3.ipynb#W4sZmlsZQ%3D%3D?line=2'>3</a>\u001b[0m \u001b[39m# %%\u001b[39;00m\n\u001b[1;32m      <a href='vscode-notebook-cell:/home/kchen/Documents/iom/source2/iv3.ipynb#W4sZmlsZQ%3D%3D?line=3'>4</a>\u001b[0m \u001b[39m#unfreeze all layers and train at lower learning rate\u001b[39;00m\n",
      "File \u001b[0;32m~/.local/lib/python3.8/site-packages/keras/utils/traceback_utils.py:67\u001b[0m, in \u001b[0;36mfilter_traceback.<locals>.error_handler\u001b[0;34m(*args, **kwargs)\u001b[0m\n\u001b[1;32m     65\u001b[0m \u001b[39mexcept\u001b[39;00m \u001b[39mException\u001b[39;00m \u001b[39mas\u001b[39;00m e:  \u001b[39m# pylint: disable=broad-except\u001b[39;00m\n\u001b[1;32m     66\u001b[0m   filtered_tb \u001b[39m=\u001b[39m _process_traceback_frames(e\u001b[39m.\u001b[39m__traceback__)\n\u001b[0;32m---> 67\u001b[0m   \u001b[39mraise\u001b[39;00m e\u001b[39m.\u001b[39mwith_traceback(filtered_tb) \u001b[39mfrom\u001b[39;00m \u001b[39mNone\u001b[39m\n\u001b[1;32m     68\u001b[0m \u001b[39mfinally\u001b[39;00m:\n\u001b[1;32m     69\u001b[0m   \u001b[39mdel\u001b[39;00m filtered_tb\n",
      "File \u001b[0;32m~/.local/lib/python3.8/site-packages/tensorflow/python/eager/execute.py:58\u001b[0m, in \u001b[0;36mquick_execute\u001b[0;34m(op_name, num_outputs, inputs, attrs, ctx, name)\u001b[0m\n\u001b[1;32m     56\u001b[0m \u001b[39mtry\u001b[39;00m:\n\u001b[1;32m     57\u001b[0m   ctx\u001b[39m.\u001b[39mensure_initialized()\n\u001b[0;32m---> 58\u001b[0m   tensors \u001b[39m=\u001b[39m pywrap_tfe\u001b[39m.\u001b[39mTFE_Py_Execute(ctx\u001b[39m.\u001b[39m_handle, device_name, op_name,\n\u001b[1;32m     59\u001b[0m                                       inputs, attrs, num_outputs)\n\u001b[1;32m     60\u001b[0m \u001b[39mexcept\u001b[39;00m core\u001b[39m.\u001b[39m_NotOkStatusException \u001b[39mas\u001b[39;00m e:\n\u001b[1;32m     61\u001b[0m   \u001b[39mif\u001b[39;00m name \u001b[39mis\u001b[39;00m \u001b[39mnot\u001b[39;00m \u001b[39mNone\u001b[39;00m:\n",
      "\u001b[0;31mUnknownError\u001b[0m: 2 root error(s) found.\n  (0) UNKNOWN:  Failed to get convolution algorithm. This is probably because cuDNN failed to initialize, so try looking to see if a warning log message was printed above.\n\t [[node model/inception_v3/conv2d/Conv2D\n (defined at /home/kchen/.local/lib/python3.8/site-packages/keras/layers/convolutional.py:231)\n]]\n\t [[assert_less_equal/Assert/AssertGuard/pivot_f/_13/_51]]\n  (1) UNKNOWN:  Failed to get convolution algorithm. This is probably because cuDNN failed to initialize, so try looking to see if a warning log message was printed above.\n\t [[node model/inception_v3/conv2d/Conv2D\n (defined at /home/kchen/.local/lib/python3.8/site-packages/keras/layers/convolutional.py:231)\n]]\n0 successful operations.\n0 derived errors ignored. [Op:__inference_train_function_19999]\n\nErrors may have originated from an input operation.\nInput Source operations connected to node model/inception_v3/conv2d/Conv2D:\nIn[0] model/tf.math.subtract/Sub (defined at /home/kchen/.local/lib/python3.8/site-packages/keras/layers/core/tf_op_layer.py:261)\t\nIn[1] model/inception_v3/conv2d/Conv2D/ReadVariableOp:\n\nOperation defined at: (most recent call last)\n>>>   File \"/usr/lib/python3.8/runpy.py\", line 194, in _run_module_as_main\n>>>     return _run_code(code, main_globals, None,\n>>> \n>>>   File \"/usr/lib/python3.8/runpy.py\", line 87, in _run_code\n>>>     exec(code, run_globals)\n>>> \n>>>   File \"/home/kchen/.local/lib/python3.8/site-packages/ipykernel_launcher.py\", line 16, in <module>\n>>>     app.launch_new_instance()\n>>> \n>>>   File \"/home/kchen/.local/lib/python3.8/site-packages/traitlets/config/application.py\", line 846, in launch_instance\n>>>     app.start()\n>>> \n>>>   File \"/home/kchen/.local/lib/python3.8/site-packages/ipykernel/kernelapp.py\", line 677, in start\n>>>     self.io_loop.start()\n>>> \n>>>   File \"/home/kchen/.local/lib/python3.8/site-packages/tornado/platform/asyncio.py\", line 199, in start\n>>>     self.asyncio_loop.run_forever()\n>>> \n>>>   File \"/usr/lib/python3.8/asyncio/base_events.py\", line 570, in run_forever\n>>>     self._run_once()\n>>> \n>>>   File \"/usr/lib/python3.8/asyncio/base_events.py\", line 1859, in _run_once\n>>>     handle._run()\n>>> \n>>>   File \"/usr/lib/python3.8/asyncio/events.py\", line 81, in _run\n>>>     self._context.run(self._callback, *self._args)\n>>> \n>>>   File \"/home/kchen/.local/lib/python3.8/site-packages/ipykernel/kernelbase.py\", line 471, in dispatch_queue\n>>>     await self.process_one()\n>>> \n>>>   File \"/home/kchen/.local/lib/python3.8/site-packages/ipykernel/kernelbase.py\", line 460, in process_one\n>>>     await dispatch(*args)\n>>> \n>>>   File \"/home/kchen/.local/lib/python3.8/site-packages/ipykernel/kernelbase.py\", line 367, in dispatch_shell\n>>>     await result\n>>> \n>>>   File \"/home/kchen/.local/lib/python3.8/site-packages/ipykernel/kernelbase.py\", line 662, in execute_request\n>>>     reply_content = await reply_content\n>>> \n>>>   File \"/home/kchen/.local/lib/python3.8/site-packages/ipykernel/ipkernel.py\", line 360, in do_execute\n>>>     res = shell.run_cell(code, store_history=store_history, silent=silent)\n>>> \n>>>   File \"/home/kchen/.local/lib/python3.8/site-packages/ipykernel/zmqshell.py\", line 532, in run_cell\n>>>     return super().run_cell(*args, **kwargs)\n>>> \n>>>   File \"/home/kchen/.local/lib/python3.8/site-packages/IPython/core/interactiveshell.py\", line 2854, in run_cell\n>>>     result = self._run_cell(\n>>> \n>>>   File \"/home/kchen/.local/lib/python3.8/site-packages/IPython/core/interactiveshell.py\", line 2900, in _run_cell\n>>>     return runner(coro)\n>>> \n>>>   File \"/home/kchen/.local/lib/python3.8/site-packages/IPython/core/async_helpers.py\", line 129, in _pseudo_sync_runner\n>>>     coro.send(None)\n>>> \n>>>   File \"/home/kchen/.local/lib/python3.8/site-packages/IPython/core/interactiveshell.py\", line 3098, in run_cell_async\n>>>     has_raised = await self.run_ast_nodes(code_ast.body, cell_name,\n>>> \n>>>   File \"/home/kchen/.local/lib/python3.8/site-packages/IPython/core/interactiveshell.py\", line 3301, in run_ast_nodes\n>>>     if await self.run_code(code, result, async_=asy):\n>>> \n>>>   File \"/home/kchen/.local/lib/python3.8/site-packages/IPython/core/interactiveshell.py\", line 3361, in run_code\n>>>     exec(code_obj, self.user_global_ns, self.user_ns)\n>>> \n>>>   File \"/tmp/ipykernel_130320/2273705301.py\", line 1, in <cell line: 1>\n>>>     model.fit(train_ds, epochs=epochs, validation_data=val_ds, callbacks=early_stopping, verbose=1)\n>>> \n>>>   File \"/home/kchen/.local/lib/python3.8/site-packages/keras/utils/traceback_utils.py\", line 64, in error_handler\n>>>     return fn(*args, **kwargs)\n>>> \n>>>   File \"/home/kchen/.local/lib/python3.8/site-packages/keras/engine/training.py\", line 1216, in fit\n>>>     tmp_logs = self.train_function(iterator)\n>>> \n>>>   File \"/home/kchen/.local/lib/python3.8/site-packages/keras/engine/training.py\", line 878, in train_function\n>>>     return step_function(self, iterator)\n>>> \n>>>   File \"/home/kchen/.local/lib/python3.8/site-packages/keras/engine/training.py\", line 867, in step_function\n>>>     outputs = model.distribute_strategy.run(run_step, args=(data,))\n>>> \n>>>   File \"/home/kchen/.local/lib/python3.8/site-packages/keras/engine/training.py\", line 860, in run_step\n>>>     outputs = model.train_step(data)\n>>> \n>>>   File \"/home/kchen/.local/lib/python3.8/site-packages/keras/engine/training.py\", line 808, in train_step\n>>>     y_pred = self(x, training=True)\n>>> \n>>>   File \"/home/kchen/.local/lib/python3.8/site-packages/keras/utils/traceback_utils.py\", line 64, in error_handler\n>>>     return fn(*args, **kwargs)\n>>> \n>>>   File \"/home/kchen/.local/lib/python3.8/site-packages/keras/engine/base_layer.py\", line 1083, in __call__\n>>>     outputs = call_fn(inputs, *args, **kwargs)\n>>> \n>>>   File \"/home/kchen/.local/lib/python3.8/site-packages/keras/utils/traceback_utils.py\", line 92, in error_handler\n>>>     return fn(*args, **kwargs)\n>>> \n>>>   File \"/home/kchen/.local/lib/python3.8/site-packages/keras/engine/functional.py\", line 451, in call\n>>>     return self._run_internal_graph(\n>>> \n>>>   File \"/home/kchen/.local/lib/python3.8/site-packages/keras/engine/functional.py\", line 589, in _run_internal_graph\n>>>     outputs = node.layer(*args, **kwargs)\n>>> \n>>>   File \"/home/kchen/.local/lib/python3.8/site-packages/keras/utils/traceback_utils.py\", line 64, in error_handler\n>>>     return fn(*args, **kwargs)\n>>> \n>>>   File \"/home/kchen/.local/lib/python3.8/site-packages/keras/engine/base_layer.py\", line 1083, in __call__\n>>>     outputs = call_fn(inputs, *args, **kwargs)\n>>> \n>>>   File \"/home/kchen/.local/lib/python3.8/site-packages/keras/utils/traceback_utils.py\", line 92, in error_handler\n>>>     return fn(*args, **kwargs)\n>>> \n>>>   File \"/home/kchen/.local/lib/python3.8/site-packages/keras/engine/functional.py\", line 451, in call\n>>>     return self._run_internal_graph(\n>>> \n>>>   File \"/home/kchen/.local/lib/python3.8/site-packages/keras/engine/functional.py\", line 589, in _run_internal_graph\n>>>     outputs = node.layer(*args, **kwargs)\n>>> \n>>>   File \"/home/kchen/.local/lib/python3.8/site-packages/keras/utils/traceback_utils.py\", line 64, in error_handler\n>>>     return fn(*args, **kwargs)\n>>> \n>>>   File \"/home/kchen/.local/lib/python3.8/site-packages/keras/engine/base_layer.py\", line 1083, in __call__\n>>>     outputs = call_fn(inputs, *args, **kwargs)\n>>> \n>>>   File \"/home/kchen/.local/lib/python3.8/site-packages/keras/utils/traceback_utils.py\", line 92, in error_handler\n>>>     return fn(*args, **kwargs)\n>>> \n>>>   File \"/home/kchen/.local/lib/python3.8/site-packages/keras/layers/convolutional.py\", line 246, in call\n>>>     outputs = self.convolution_op(inputs, self.kernel)\n>>> \n>>>   File \"/home/kchen/.local/lib/python3.8/site-packages/keras/layers/convolutional.py\", line 231, in convolution_op\n>>>     return tf.nn.convolution(\n>>> \n\nInput Source operations connected to node model/inception_v3/conv2d/Conv2D:\nIn[0] model/tf.math.subtract/Sub (defined at /home/kchen/.local/lib/python3.8/site-packages/keras/layers/core/tf_op_layer.py:261)\t\nIn[1] model/inception_v3/conv2d/Conv2D/ReadVariableOp:\n\nOperation defined at: (most recent call last)\n>>>   File \"/usr/lib/python3.8/runpy.py\", line 194, in _run_module_as_main\n>>>     return _run_code(code, main_globals, None,\n>>> \n>>>   File \"/usr/lib/python3.8/runpy.py\", line 87, in _run_code\n>>>     exec(code, run_globals)\n>>> \n>>>   File \"/home/kchen/.local/lib/python3.8/site-packages/ipykernel_launcher.py\", line 16, in <module>\n>>>     app.launch_new_instance()\n>>> \n>>>   File \"/home/kchen/.local/lib/python3.8/site-packages/traitlets/config/application.py\", line 846, in launch_instance\n>>>     app.start()\n>>> \n>>>   File \"/home/kchen/.local/lib/python3.8/site-packages/ipykernel/kernelapp.py\", line 677, in start\n>>>     self.io_loop.start()\n>>> \n>>>   File \"/home/kchen/.local/lib/python3.8/site-packages/tornado/platform/asyncio.py\", line 199, in start\n>>>     self.asyncio_loop.run_forever()\n>>> \n>>>   File \"/usr/lib/python3.8/asyncio/base_events.py\", line 570, in run_forever\n>>>     self._run_once()\n>>> \n>>>   File \"/usr/lib/python3.8/asyncio/base_events.py\", line 1859, in _run_once\n>>>     handle._run()\n>>> \n>>>   File \"/usr/lib/python3.8/asyncio/events.py\", line 81, in _run\n>>>     self._context.run(self._callback, *self._args)\n>>> \n>>>   File \"/home/kchen/.local/lib/python3.8/site-packages/ipykernel/kernelbase.py\", line 471, in dispatch_queue\n>>>     await self.process_one()\n>>> \n>>>   File \"/home/kchen/.local/lib/python3.8/site-packages/ipykernel/kernelbase.py\", line 460, in process_one\n>>>     await dispatch(*args)\n>>> \n>>>   File \"/home/kchen/.local/lib/python3.8/site-packages/ipykernel/kernelbase.py\", line 367, in dispatch_shell\n>>>     await result\n>>> \n>>>   File \"/home/kchen/.local/lib/python3.8/site-packages/ipykernel/kernelbase.py\", line 662, in execute_request\n>>>     reply_content = await reply_content\n>>> \n>>>   File \"/home/kchen/.local/lib/python3.8/site-packages/ipykernel/ipkernel.py\", line 360, in do_execute\n>>>     res = shell.run_cell(code, store_history=store_history, silent=silent)\n>>> \n>>>   File \"/home/kchen/.local/lib/python3.8/site-packages/ipykernel/zmqshell.py\", line 532, in run_cell\n>>>     return super().run_cell(*args, **kwargs)\n>>> \n>>>   File \"/home/kchen/.local/lib/python3.8/site-packages/IPython/core/interactiveshell.py\", line 2854, in run_cell\n>>>     result = self._run_cell(\n>>> \n>>>   File \"/home/kchen/.local/lib/python3.8/site-packages/IPython/core/interactiveshell.py\", line 2900, in _run_cell\n>>>     return runner(coro)\n>>> \n>>>   File \"/home/kchen/.local/lib/python3.8/site-packages/IPython/core/async_helpers.py\", line 129, in _pseudo_sync_runner\n>>>     coro.send(None)\n>>> \n>>>   File \"/home/kchen/.local/lib/python3.8/site-packages/IPython/core/interactiveshell.py\", line 3098, in run_cell_async\n>>>     has_raised = await self.run_ast_nodes(code_ast.body, cell_name,\n>>> \n>>>   File \"/home/kchen/.local/lib/python3.8/site-packages/IPython/core/interactiveshell.py\", line 3301, in run_ast_nodes\n>>>     if await self.run_code(code, result, async_=asy):\n>>> \n>>>   File \"/home/kchen/.local/lib/python3.8/site-packages/IPython/core/interactiveshell.py\", line 3361, in run_code\n>>>     exec(code_obj, self.user_global_ns, self.user_ns)\n>>> \n>>>   File \"/tmp/ipykernel_130320/2273705301.py\", line 1, in <cell line: 1>\n>>>     model.fit(train_ds, epochs=epochs, validation_data=val_ds, callbacks=early_stopping, verbose=1)\n>>> \n>>>   File \"/home/kchen/.local/lib/python3.8/site-packages/keras/utils/traceback_utils.py\", line 64, in error_handler\n>>>     return fn(*args, **kwargs)\n>>> \n>>>   File \"/home/kchen/.local/lib/python3.8/site-packages/keras/engine/training.py\", line 1216, in fit\n>>>     tmp_logs = self.train_function(iterator)\n>>> \n>>>   File \"/home/kchen/.local/lib/python3.8/site-packages/keras/engine/training.py\", line 878, in train_function\n>>>     return step_function(self, iterator)\n>>> \n>>>   File \"/home/kchen/.local/lib/python3.8/site-packages/keras/engine/training.py\", line 867, in step_function\n>>>     outputs = model.distribute_strategy.run(run_step, args=(data,))\n>>> \n>>>   File \"/home/kchen/.local/lib/python3.8/site-packages/keras/engine/training.py\", line 860, in run_step\n>>>     outputs = model.train_step(data)\n>>> \n>>>   File \"/home/kchen/.local/lib/python3.8/site-packages/keras/engine/training.py\", line 808, in train_step\n>>>     y_pred = self(x, training=True)\n>>> \n>>>   File \"/home/kchen/.local/lib/python3.8/site-packages/keras/utils/traceback_utils.py\", line 64, in error_handler\n>>>     return fn(*args, **kwargs)\n>>> \n>>>   File \"/home/kchen/.local/lib/python3.8/site-packages/keras/engine/base_layer.py\", line 1083, in __call__\n>>>     outputs = call_fn(inputs, *args, **kwargs)\n>>> \n>>>   File \"/home/kchen/.local/lib/python3.8/site-packages/keras/utils/traceback_utils.py\", line 92, in error_handler\n>>>     return fn(*args, **kwargs)\n>>> \n>>>   File \"/home/kchen/.local/lib/python3.8/site-packages/keras/engine/functional.py\", line 451, in call\n>>>     return self._run_internal_graph(\n>>> \n>>>   File \"/home/kchen/.local/lib/python3.8/site-packages/keras/engine/functional.py\", line 589, in _run_internal_graph\n>>>     outputs = node.layer(*args, **kwargs)\n>>> \n>>>   File \"/home/kchen/.local/lib/python3.8/site-packages/keras/utils/traceback_utils.py\", line 64, in error_handler\n>>>     return fn(*args, **kwargs)\n>>> \n>>>   File \"/home/kchen/.local/lib/python3.8/site-packages/keras/engine/base_layer.py\", line 1083, in __call__\n>>>     outputs = call_fn(inputs, *args, **kwargs)\n>>> \n>>>   File \"/home/kchen/.local/lib/python3.8/site-packages/keras/utils/traceback_utils.py\", line 92, in error_handler\n>>>     return fn(*args, **kwargs)\n>>> \n>>>   File \"/home/kchen/.local/lib/python3.8/site-packages/keras/engine/functional.py\", line 451, in call\n>>>     return self._run_internal_graph(\n>>> \n>>>   File \"/home/kchen/.local/lib/python3.8/site-packages/keras/engine/functional.py\", line 589, in _run_internal_graph\n>>>     outputs = node.layer(*args, **kwargs)\n>>> \n>>>   File \"/home/kchen/.local/lib/python3.8/site-packages/keras/utils/traceback_utils.py\", line 64, in error_handler\n>>>     return fn(*args, **kwargs)\n>>> \n>>>   File \"/home/kchen/.local/lib/python3.8/site-packages/keras/engine/base_layer.py\", line 1083, in __call__\n>>>     outputs = call_fn(inputs, *args, **kwargs)\n>>> \n>>>   File \"/home/kchen/.local/lib/python3.8/site-packages/keras/utils/traceback_utils.py\", line 92, in error_handler\n>>>     return fn(*args, **kwargs)\n>>> \n>>>   File \"/home/kchen/.local/lib/python3.8/site-packages/keras/layers/convolutional.py\", line 246, in call\n>>>     outputs = self.convolution_op(inputs, self.kernel)\n>>> \n>>>   File \"/home/kchen/.local/lib/python3.8/site-packages/keras/layers/convolutional.py\", line 231, in convolution_op\n>>>     return tf.nn.convolution(\n>>> \n\nFunction call stack:\ntrain_function -> train_function\n"
     ]
    }
   ],
   "source": [
    "model.fit(train_ds, epochs=epochs, validation_data=val_ds, callbacks=early_stopping, verbose=1)\n",
    "print('phase 1 complete')\n",
    "# %%\n",
    "#unfreeze all layers and train at lower learning rate\n",
    "base_model.trainable = True\n",
    "model.compile(\n",
    "    optimizer=keras.optimizers.Adam(lr_2), \n",
    "    loss=keras.losses.BinaryCrossentropy(from_logits=False),\n",
    "    metrics=[keras.metrics.BinaryAccuracy(), keras.metrics.AUC()],\n",
    ")\n",
    "model.fit(train_ds, epochs=1000, validation_data=val_ds, callbacks=early_stopping, verbose=1)\n",
    "print('phase 2 complete')\n"
   ]
  },
  {
   "cell_type": "code",
   "execution_count": null,
   "metadata": {},
   "outputs": [],
   "source": [
    "# # %%\n",
    "# #load test set and normalize using same code\n",
    "\n",
    "# y_val_pred = np.array([])\n",
    "# y_val = np.array([])\n",
    "# for images, labels in val_ds:\n",
    "#     y_val = np.append(y_val, labels.numpy())\n",
    "#     y_val_pred = np.append(y_val_pred, model.predict(images))\n",
    "# auroc_val = roc_auc_score(y_val, y_val_pred)\n",
    "\n",
    "# y_test_pred = np.array([])\n",
    "# y_test = np.array([])\n",
    "# for images, labels in test_ds:\n",
    "#     y_test = np.append(y_test, labels.numpy())\n",
    "#     y_test_pred = np.append(y_test_pred, model.predict(images))\n",
    "# auroc_test = roc_auc_score(y_test, y_test_pred)\n",
    "# file_paths = test_ds.file_paths\n",
    "# pred_df = pd.DataFrame({'file_path': file_paths, 'y_true': y_test, 'y_pred': y_test_pred})\n",
    "# pred_df.to_csv('preds/preds_{}_{}.csv'.format(model_name, weights), index=False)"
   ]
  },
  {
   "cell_type": "code",
   "execution_count": null,
   "metadata": {},
   "outputs": [],
   "source": [
    "#save the final model as a .h5 file\n",
    "model.save('models/{}_{}.h5'.format(model_name, weights))"
   ]
  },
  {
   "cell_type": "code",
   "execution_count": null,
   "metadata": {},
   "outputs": [
    {
     "name": "stdout",
     "output_type": "stream",
     "text": [
      "Found 492 files belonging to 2 classes.\n",
      "Found 165 files belonging to 2 classes.\n",
      "Found 164 files belonging to 2 classes.\n"
     ]
    }
   ],
   "source": [
    "#generate predictions for all images in the dataset, including train and val, and save to one csv\n",
    "train_ds = tf.keras.preprocessing.image_dataset_from_directory(train_dir, label_mode='binary', seed=0, shuffle=False, image_size=(img_size, img_size), batch_size=batch_size, color_mode='rgb')\n",
    "val_ds = tf.keras.preprocessing.image_dataset_from_directory(val_dir, label_mode='binary', seed=0, shuffle=False, image_size=(img_size, img_size), batch_size=batch_size, color_mode='rgb')\n",
    "test_ds = tf.keras.preprocessing.image_dataset_from_directory(test_dir, label_mode='binary', seed=0, shuffle=False, image_size=(img_size, img_size), batch_size=1, color_mode='rgb')\n",
    "y_train_pred = np.array([])\n",
    "y_train = np.array([])\n",
    "for images, labels in train_ds:\n",
    "    y_train = np.append(y_train, labels.numpy())\n",
    "    y_train_pred = np.append(y_train_pred, model.predict(images))\n",
    "train_file_paths = train_ds.file_paths\n",
    "\n",
    "y_val_pred = np.array([])\n",
    "y_val = np.array([])\n",
    "for images, labels in val_ds:\n",
    "    y_val = np.append(y_val, labels.numpy())\n",
    "    y_val_pred = np.append(y_val_pred, model.predict(images))\n",
    "val_file_paths = val_ds.file_paths\n",
    "\n",
    "y_test_pred = np.array([])\n",
    "y_test = np.array([])\n",
    "for images, labels in test_ds:\n",
    "    y_test = np.append(y_test, labels.numpy())\n",
    "    y_test_pred = np.append(y_test_pred, model.predict(images))\n",
    "test_file_paths = test_ds.file_paths\n",
    "\n",
    "y_all_pred = np.append(y_train_pred, y_val_pred)\n",
    "y_all_pred = np.append(y_all_pred, y_test_pred)\n",
    "y_all = np.append(y_train, y_val)\n",
    "y_all = np.append(y_all, y_test)\n",
    "file_paths = np.append(train_file_paths, val_file_paths)\n",
    "file_paths = np.append(file_paths, test_file_paths)\n",
    "pred_df = pd.DataFrame({'file_path': file_paths, 'y_true': y_all, 'y_pred': y_all_pred})\n",
    "pred_df.to_csv('preds/preds_{}_{}_all_v2.csv'.format(model_name, weights), index=False)\n"
   ]
  },
  {
   "cell_type": "code",
   "execution_count": null,
   "metadata": {},
   "outputs": [],
   "source": [
    "auroc_test = roc_auc_score(y_test, y_test_pred)\n",
    "auroc_val = roc_auc_score(y_val, y_val_pred)\n",
    "\n",
    "results_df = pd.DataFrame({'model': [model_name], 'weights': [weights], 'image_size': [img_size], 'batch_size': [batch_size], 'lr_1': [lr_1], 'lr_2': [lr_2], 'n_layers': [n_layers], 'n_neurons': [n_neurons], 'n_dropout': [n_dropout], 'auroc_val': auroc_val, 'auroc_test': auroc_test})"
   ]
  },
  {
   "cell_type": "code",
   "execution_count": null,
   "metadata": {},
   "outputs": [
    {
     "name": "stdout",
     "output_type": "stream",
     "text": [
      "test auroc: 0.7014013118664282\n",
      "val auroc: 0.659888004715591\n"
     ]
    }
   ],
   "source": [
    "print(\"test auroc: {}\".format(auroc_test))\n",
    "print(\"val auroc: {}\".format(auroc_val))"
   ]
  },
  {
   "cell_type": "code",
   "execution_count": null,
   "metadata": {},
   "outputs": [],
   "source": [
    "#if results file exists, append to it, otherwise create it\n",
    "# try:\n",
    "#     results_df.to_csv('results/results_iv3.csv', mode='a', header=False, index=True)\n",
    "# except:\n",
    "#     results_df.to_csv('results/results_iv3.csv', header=True, index=True)"
   ]
  }
 ],
 "metadata": {
  "kernelspec": {
   "display_name": "Python 3",
   "language": "python",
   "name": "python3"
  },
  "language_info": {
   "codemirror_mode": {
    "name": "ipython",
    "version": 3
   },
   "file_extension": ".py",
   "mimetype": "text/x-python",
   "name": "python",
   "nbconvert_exporter": "python",
   "pygments_lexer": "ipython3",
   "version": "3.8.10"
  },
  "orig_nbformat": 4,
  "vscode": {
   "interpreter": {
    "hash": "916dbcbb3f70747c44a77c7bcd40155683ae19c65e1c03b4aa3499c5328201f1"
   }
  }
 },
 "nbformat": 4,
 "nbformat_minor": 2
}
